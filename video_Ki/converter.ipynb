{
 "cells": [
  {
   "cell_type": "raw",
   "metadata": {
    "collapsed": true,
    "pycharm": {
     "name": "#%% raw\n"
    }
   },
   "source": [
    "pull all frames from 2 videos and save them to 2 folders"
   ]
  },
  {
   "cell_type": "code",
   "execution_count": null,
   "outputs": [],
   "source": [
    "# !pip install opencv-python\n",
    "\n",
    "import cv2 as cv2\n",
    "vid = cv2.VideoCapture(\"/Users/anasarodake/DataSpell/UnI-ML-DL/video_Ki/src/IMG_9026.mp4\")\n",
    "i = 0\n",
    "\n",
    "while vid.isOpened():\n",
    "    ret, frame = vid.read()\n",
    "    if ret == False:\n",
    "        break\n",
    "    cv2.imwrite(\"/Users/anasarodake/DataSpell/UnI-ML-DL/video_Ki/images/neutral/neutral\" + str(i) + \".jpg\", frame)\n",
    "    i = i + 1\n",
    "\n",
    "vid.release()\n",
    "cv2.destroyAllWindows()\n",
    "\n",
    "\n"
   ],
   "metadata": {
    "collapsed": false,
    "pycharm": {
     "name": "#%%\n"
    }
   }
  },
  {
   "cell_type": "code",
   "execution_count": 5,
   "outputs": [],
   "source": [
    "# !pip install opencv-python\n",
    "\n",
    "import cv2 as cv2\n",
    "\n",
    "vid = cv2.VideoCapture(\"/Users/anasarodake/DataSpell/UnI-ML-DL/video_Ki/src/IMG_9027.mp4\")\n",
    "i = 0\n",
    "\n",
    "while vid.isOpened():\n",
    "    ret, frame = vid.read()\n",
    "    if ret == False:\n",
    "        break\n",
    "    cv2.imwrite(\"/Users/anasarodake/DataSpell/UnI-ML-DL/video_Ki/images/smile/smile\" + str(i) + \".jpg\", frame)\n",
    "    i = i + 1\n",
    "\n",
    "vid.release()\n",
    "cv2.destroyAllWindows()\n",
    "\n"
   ],
   "metadata": {
    "collapsed": false,
    "pycharm": {
     "name": "#%%\n"
    }
   }
  },
  {
   "cell_type": "markdown",
   "source": [
    "### split all the images into train , test and validation data"
   ],
   "metadata": {
    "collapsed": false,
    "pycharm": {
     "name": "#%% md\n"
    }
   }
  },
  {
   "cell_type": "code",
   "execution_count": 20,
   "outputs": [
    {
     "name": "stdout",
     "output_type": "stream",
     "text": [
      "['neutral', 'smile']\n",
      "\n",
      " ***************************** \n",
      " Total images:  neutral 502 \n",
      " Training:  301 \n",
      " Testing:  150 \n",
      " Validation:  51 \n",
      " *****************************\n",
      "\n",
      " ***************************** \n",
      " Total images:  smile 583 \n",
      " Training:  349 \n",
      " Testing:  175 \n",
      " Validation:  59 \n",
      " *****************************\n",
      "/Users/anasarodake/DataSpell/UnI-ML-DL/video_Ki/images/train/   train/ 0\n",
      "/Users/anasarodake/DataSpell/UnI-ML-DL/video_Ki/images/train/neutral   train/ 301\n",
      "/Users/anasarodake/DataSpell/UnI-ML-DL/video_Ki/images/train/smile   train/ 349\n",
      "/Users/anasarodake/DataSpell/UnI-ML-DL/video_Ki/images/test/   test/ 0\n",
      "/Users/anasarodake/DataSpell/UnI-ML-DL/video_Ki/images/test/neutral   test/ 150\n",
      "/Users/anasarodake/DataSpell/UnI-ML-DL/video_Ki/images/test/smile   test/ 175\n",
      "/Users/anasarodake/DataSpell/UnI-ML-DL/video_Ki/images/val/   val/ 0\n",
      "/Users/anasarodake/DataSpell/UnI-ML-DL/video_Ki/images/val/neutral   val/ 51\n",
      "/Users/anasarodake/DataSpell/UnI-ML-DL/video_Ki/images/val/smile   val/ 59\n"
     ]
    }
   ],
   "source": [
    "import os\n",
    "import numpy as np\n",
    "import shutil\n",
    "import random\n",
    "root_dir = \"/Users/anasarodake/DataSpell/UnI-ML-DL/video_Ki/images/\" # for requesting directly pics\n",
    "classes_dir = os.listdir(root_dir)\n",
    "\n",
    "classes_dir.remove(\".DS_Store\")\n",
    "print(classes_dir)\n",
    "\n",
    "train_ratio = 0.6\n",
    "val_ratio  = 0.1\n",
    "input_destination = \"/Users/anasarodake/DataSpell/UnI-ML-DL/video_Ki/images/\"\n",
    "\n",
    "for cls in classes_dir:\n",
    "    os.makedirs(input_destination +'train/' + cls, exist_ok=True)\n",
    "    os.makedirs(input_destination +'test/' + cls, exist_ok=True)\n",
    "    os.makedirs(input_destination +'val/' + cls, exist_ok=True)\n",
    "\n",
    "    # for each class, let's counts its elements\n",
    "    src = root_dir + cls\n",
    "    allFileNames = os.listdir(src)\n",
    "\n",
    "    # shuffle it and split into train/test/va\n",
    "    np.random.shuffle(allFileNames)\n",
    "    train_FileNames, test_FileNames, val_FileNames = np.split(np.array(allFileNames),[int(train_ratio * len(allFileNames)), int((1-val_ratio) * len(allFileNames))])\n",
    "\n",
    "    # save their initial path\n",
    "    train_FileNames = [src+'/'+ name  for name in train_FileNames.tolist()]\n",
    "    test_FileNames  = [src+'/' + name for name in test_FileNames.tolist()]\n",
    "    val_FileNames   = [src+'/' + name for name in val_FileNames.tolist()]\n",
    "    print(\"\\n *****************************\",\n",
    "          \"\\n Total images: \",cls, len(allFileNames),\n",
    "          '\\n Training: ', len(train_FileNames),\n",
    "          '\\n Testing: ', len(test_FileNames),\n",
    "          '\\n Validation: ', len(val_FileNames),\n",
    "          '\\n *****************************')\n",
    "\n",
    "    # copy files from the initial path to the final folders\n",
    "    for name in train_FileNames:\n",
    "        shutil.copy(name, input_destination +'train/' + cls)\n",
    "    for name in test_FileNames:\n",
    "        shutil.copy(name, input_destination +'test/' + cls)\n",
    "    for name in val_FileNames:\n",
    "        shutil.copy(name, input_destination +'val/' + cls)\n",
    "\n",
    "\n",
    "# checking everything was fine\n",
    "paths = ['train/', 'test/','val/']\n",
    "for p in paths:\n",
    "    for dir,subdir,files in os.walk(input_destination + p):\n",
    "        print(dir,' ', p, str(len(files)))"
   ],
   "metadata": {
    "collapsed": false,
    "pycharm": {
     "name": "#%%\n"
    }
   }
  },
  {
   "cell_type": "code",
   "execution_count": null,
   "outputs": [],
   "source": [],
   "metadata": {
    "collapsed": false,
    "pycharm": {
     "name": "#%%\n"
    }
   }
  }
 ],
 "metadata": {
  "kernelspec": {
   "display_name": "Python 3",
   "language": "python",
   "name": "python3"
  },
  "language_info": {
   "codemirror_mode": {
    "name": "ipython",
    "version": 2
   },
   "file_extension": ".py",
   "mimetype": "text/x-python",
   "name": "python",
   "nbconvert_exporter": "python",
   "pygments_lexer": "ipython2",
   "version": "2.7.6"
  }
 },
 "nbformat": 4,
 "nbformat_minor": 0
}