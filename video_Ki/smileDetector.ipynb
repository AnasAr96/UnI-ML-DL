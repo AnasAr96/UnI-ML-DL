{
 "cells": [
  {
   "cell_type": "code",
   "execution_count": 1,
   "metadata": {
    "collapsed": true
   },
   "outputs": [],
   "source": [
    "import tensorflow_hub as hub\n",
    "import os\n",
    "import numpy as np\n",
    "import glob\n",
    "import shutil\n",
    "import tensorflow as tf\n",
    "import matplotlib.pyplot as plt\n",
    "from keras.preprocessing.image import ImageDataGenerator\n",
    "from keras.models import Sequential\n",
    "from keras.layers import Conv2D, MaxPooling2D\n",
    "from keras.layers import Activation, Dropout, Flatten, Dense"
   ]
  },
  {
   "cell_type": "code",
   "execution_count": 2,
   "outputs": [],
   "source": [
    "base_dir = '/Users/anasarodake/DataSpell/UnI-ML-DL/video_Ki/images'\n",
    "classes = ['smile' , 'neutral']"
   ],
   "metadata": {
    "collapsed": false,
    "pycharm": {
     "name": "#%%\n"
    }
   }
  },
  {
   "cell_type": "code",
   "execution_count": 3,
   "outputs": [],
   "source": [
    "train_dir = os.path.join(base_dir, 'train')\n",
    "val_dir = os.path.join(base_dir, 'val')\n",
    "test_dir = os.path.join(base_dir, 'test')"
   ],
   "metadata": {
    "collapsed": false,
    "pycharm": {
     "name": "#%%\n"
    }
   }
  },
  {
   "cell_type": "code",
   "execution_count": 4,
   "outputs": [
    {
     "name": "stdout",
     "output_type": "stream",
     "text": [
      "Found 650 images belonging to 2 classes.\n"
     ]
    }
   ],
   "source": [
    "IMG_SHAPE = 250\n",
    "\n",
    "batch_size =10\n",
    "\n",
    "image_gen = ImageDataGenerator(\n",
    "    rescale=1./255,\n",
    "    rotation_range=30,\n",
    "    zoom_range=0.5,\n",
    "    horizontal_flip=True,\n",
    "    width_shift_range=0.15,\n",
    "    height_shift_range=0.15\n",
    ")\n",
    "\n",
    "train_data_gen = image_gen.flow_from_directory(\n",
    "    directory=train_dir,\n",
    "    shuffle=True,\n",
    "    target_size = (IMG_SHAPE, IMG_SHAPE),\n",
    "    batch_size= batch_size,\n",
    "    class_mode='sparse',\n",
    "    classes=classes\n",
    ")"
   ],
   "metadata": {
    "collapsed": false,
    "pycharm": {
     "name": "#%%\n"
    }
   }
  },
  {
   "cell_type": "code",
   "execution_count": 5,
   "outputs": [],
   "source": [
    "def plotImages(images_arr):\n",
    "    fig, axes = plt.subplots(1, 5, figsize=(20,20))\n",
    "    axes = axes.flatten()\n",
    "    for img, ax in zip( images_arr, axes):\n",
    "        ax.imshow(img)\n",
    "    plt.tight_layout()\n",
    "    plt.show()"
   ],
   "metadata": {
    "collapsed": false,
    "pycharm": {
     "name": "#%%\n"
    }
   }
  },
  {
   "cell_type": "code",
   "execution_count": 6,
   "outputs": [],
   "source": [
    "#dieser ablock sucht nach Bildern, die evtl. einen Fehler bei ber Implimentierung verursachen und zeigt sie auf\n",
    "import PIL\n",
    "from pathlib import Path\n",
    "path = Path(train_dir).rglob(\"*.jpeg\")\n",
    "for img_p in path:\n",
    "    try:\n",
    "        img = PIL.Image.open(img_p)\n",
    "    except PIL.UnidentifiedImageError:\n",
    "        print(img_p)"
   ],
   "metadata": {
    "collapsed": false,
    "pycharm": {
     "name": "#%%\n"
    }
   }
  },
  {
   "cell_type": "code",
   "execution_count": 7,
   "outputs": [
    {
     "name": "stdout",
     "output_type": "stream",
     "text": [
      "Found 110 images belonging to 2 classes.\n"
     ]
    }
   ],
   "source": [
    "image_gen = ImageDataGenerator(\n",
    "    rescale=1./255\n",
    ")\n",
    "\n",
    "\n",
    "val_data_gen =  image_gen.flow_from_directory(\n",
    "    directory=val_dir,\n",
    "    classes=classes,\n",
    "    target_size = (IMG_SHAPE, IMG_SHAPE),\n",
    "    batch_size= batch_size,\n",
    "    class_mode= 'sparse')"
   ],
   "metadata": {
    "collapsed": false,
    "pycharm": {
     "name": "#%%\n"
    }
   }
  },
  {
   "cell_type": "code",
   "execution_count": 8,
   "outputs": [
    {
     "name": "stdout",
     "output_type": "stream",
     "text": [
      "Found 325 images belonging to 2 classes.\n"
     ]
    }
   ],
   "source": [
    "image_gen = ImageDataGenerator(\n",
    "    rescale=1./255\n",
    ")\n",
    "\n",
    "\n",
    "test_data_gen =  image_gen.flow_from_directory(\n",
    "    directory=test_dir,\n",
    "    classes=classes,\n",
    "    target_size = (IMG_SHAPE, IMG_SHAPE),\n",
    "    batch_size= batch_size,\n",
    "    class_mode= 'sparse')\n",
    "\n",
    "\n"
   ],
   "metadata": {
    "collapsed": false,
    "pycharm": {
     "name": "#%%\n"
    }
   }
  },
  {
   "cell_type": "code",
   "execution_count": 9,
   "outputs": [],
   "source": [
    "model = Sequential()\n",
    "\n",
    "model.add(Conv2D(4,3 , padding='same' , input_shape=(IMG_SHAPE, IMG_SHAPE, 3) , activation='relu'))\n",
    "model.add(MaxPooling2D(pool_size=(2, 2)))\n",
    "\n",
    "\n",
    "model.add(Conv2D(16, 3 ,padding='same' , activation='relu'))\n",
    "model.add(MaxPooling2D(pool_size=(2, 2)))\n",
    "\n",
    "model.add(Conv2D(32, 3 ,padding='same' , activation='relu'))\n",
    "model.add(MaxPooling2D(pool_size=(2, 2)))\n",
    "\n",
    "\n",
    "\n",
    "\n",
    "model.add(Flatten())  # this converts our 3D feature maps to 1D feature vectors\n",
    "model.add(Dropout(0.4))\n",
    "\n",
    "model.add(Dense(1024 ,  activation='relu'))\n",
    "\n",
    "model.add(Dropout(0.4))\n",
    "model.add(Dense(2, activation='softmax'))"
   ],
   "metadata": {
    "collapsed": false,
    "pycharm": {
     "name": "#%%\n"
    }
   }
  },
  {
   "cell_type": "code",
   "execution_count": 10,
   "outputs": [],
   "source": [
    "model.compile(optimizer='adam',\n",
    "              loss=tf.keras.losses.SparseCategoricalCrossentropy(from_logits=True),\n",
    "              metrics=['accuracy']\n",
    "              )"
   ],
   "metadata": {
    "collapsed": false,
    "pycharm": {
     "name": "#%%\n"
    }
   }
  },
  {
   "cell_type": "code",
   "execution_count": 11,
   "outputs": [
    {
     "name": "stderr",
     "output_type": "stream",
     "text": [
      "2022-04-18 15:49:45.613447: W tensorflow/core/platform/profile_utils/cpu_utils.cc:128] Failed to get CPU frequency: 0 Hz\n",
      "/Users/anasarodake/miniforge3/envs/deep/lib/python3.9/site-packages/tensorflow/python/util/dispatch.py:1096: UserWarning: \"`sparse_categorical_crossentropy` received `from_logits=True`, but the `output` argument was produced by a sigmoid or softmax activation and thus does not represent logits. Was this intended?\"\n",
      "  return dispatch_target(*args, **kwargs)\n"
     ]
    },
    {
     "name": "stdout",
     "output_type": "stream",
     "text": [
      "Epoch 1/50\n",
      "65/65 [==============================] - 10s 150ms/step - loss: 0.7489 - accuracy: 0.5046 - val_loss: 0.6893 - val_accuracy: 0.5364\n",
      "Epoch 2/50\n",
      "65/65 [==============================] - 9s 140ms/step - loss: 0.6937 - accuracy: 0.5292 - val_loss: 0.6905 - val_accuracy: 0.5364\n",
      "Epoch 3/50\n",
      "65/65 [==============================] - 9s 137ms/step - loss: 0.6926 - accuracy: 0.5369 - val_loss: 0.6906 - val_accuracy: 0.5364\n",
      "Epoch 4/50\n",
      "65/65 [==============================] - 9s 143ms/step - loss: 0.6899 - accuracy: 0.5369 - val_loss: 0.6883 - val_accuracy: 0.5364\n",
      "Epoch 5/50\n",
      "65/65 [==============================] - 9s 144ms/step - loss: 0.6889 - accuracy: 0.5662 - val_loss: 0.7202 - val_accuracy: 0.4000\n",
      "Epoch 6/50\n",
      "65/65 [==============================] - 10s 148ms/step - loss: 0.6919 - accuracy: 0.5215 - val_loss: 0.6904 - val_accuracy: 0.5364\n",
      "Epoch 7/50\n",
      "65/65 [==============================] - 10s 145ms/step - loss: 0.6908 - accuracy: 0.5369 - val_loss: 0.6897 - val_accuracy: 0.5364\n",
      "Epoch 8/50\n",
      "65/65 [==============================] - 10s 148ms/step - loss: 0.6869 - accuracy: 0.5308 - val_loss: 0.6861 - val_accuracy: 0.5091\n",
      "Epoch 9/50\n",
      "65/65 [==============================] - 10s 146ms/step - loss: 0.6866 - accuracy: 0.5369 - val_loss: 0.6434 - val_accuracy: 0.7455\n",
      "Epoch 10/50\n",
      "65/65 [==============================] - 10s 148ms/step - loss: 0.6818 - accuracy: 0.5600 - val_loss: 0.6831 - val_accuracy: 0.5545\n",
      "Epoch 11/50\n",
      "65/65 [==============================] - 10s 154ms/step - loss: 0.6849 - accuracy: 0.5154 - val_loss: 0.6670 - val_accuracy: 0.5273\n",
      "Epoch 12/50\n",
      "65/65 [==============================] - 10s 151ms/step - loss: 0.6854 - accuracy: 0.5308 - val_loss: 0.6640 - val_accuracy: 0.5455\n",
      "Epoch 13/50\n",
      "65/65 [==============================] - 10s 150ms/step - loss: 0.6691 - accuracy: 0.5815 - val_loss: 0.6084 - val_accuracy: 0.5636\n",
      "Epoch 14/50\n",
      "65/65 [==============================] - 10s 149ms/step - loss: 0.6659 - accuracy: 0.5846 - val_loss: 0.6157 - val_accuracy: 0.7909\n",
      "Epoch 15/50\n",
      "65/65 [==============================] - 10s 151ms/step - loss: 0.6434 - accuracy: 0.6123 - val_loss: 0.6478 - val_accuracy: 0.5364\n",
      "Epoch 16/50\n",
      "65/65 [==============================] - 10s 149ms/step - loss: 0.6410 - accuracy: 0.6431 - val_loss: 0.4894 - val_accuracy: 0.9091\n",
      "Epoch 17/50\n",
      "65/65 [==============================] - 10s 150ms/step - loss: 0.5144 - accuracy: 0.7769 - val_loss: 0.2458 - val_accuracy: 0.9727\n",
      "Epoch 18/50\n",
      "65/65 [==============================] - 10s 147ms/step - loss: 0.4080 - accuracy: 0.8308 - val_loss: 0.6222 - val_accuracy: 0.6364\n",
      "Epoch 19/50\n",
      "65/65 [==============================] - 10s 158ms/step - loss: 0.2874 - accuracy: 0.8769 - val_loss: 0.2516 - val_accuracy: 0.9091\n",
      "Epoch 20/50\n",
      "65/65 [==============================] - 11s 171ms/step - loss: 0.2552 - accuracy: 0.8969 - val_loss: 0.1244 - val_accuracy: 0.9909\n",
      "Epoch 21/50\n",
      "65/65 [==============================] - 11s 164ms/step - loss: 0.1263 - accuracy: 0.9631 - val_loss: 0.0287 - val_accuracy: 1.0000\n",
      "Epoch 22/50\n",
      "65/65 [==============================] - 10s 155ms/step - loss: 0.0853 - accuracy: 0.9723 - val_loss: 0.0511 - val_accuracy: 0.9727\n",
      "Epoch 23/50\n",
      "65/65 [==============================] - 10s 150ms/step - loss: 0.0710 - accuracy: 0.9846 - val_loss: 0.0133 - val_accuracy: 1.0000\n",
      "Epoch 24/50\n",
      "65/65 [==============================] - 10s 148ms/step - loss: 0.1639 - accuracy: 0.9446 - val_loss: 0.0218 - val_accuracy: 1.0000\n",
      "Epoch 25/50\n",
      "65/65 [==============================] - 10s 151ms/step - loss: 0.0812 - accuracy: 0.9738 - val_loss: 0.0068 - val_accuracy: 1.0000\n",
      "Epoch 26/50\n",
      "65/65 [==============================] - 10s 146ms/step - loss: 0.1133 - accuracy: 0.9662 - val_loss: 0.0193 - val_accuracy: 1.0000\n",
      "Epoch 27/50\n",
      "65/65 [==============================] - 10s 149ms/step - loss: 0.0394 - accuracy: 0.9908 - val_loss: 0.0052 - val_accuracy: 1.0000\n",
      "Epoch 28/50\n",
      "65/65 [==============================] - 10s 149ms/step - loss: 0.0415 - accuracy: 0.9862 - val_loss: 0.0026 - val_accuracy: 1.0000\n",
      "Epoch 29/50\n",
      "65/65 [==============================] - 10s 151ms/step - loss: 0.2553 - accuracy: 0.9138 - val_loss: 0.0590 - val_accuracy: 1.0000\n",
      "Epoch 30/50\n",
      "65/65 [==============================] - 10s 151ms/step - loss: 0.0524 - accuracy: 0.9877 - val_loss: 0.0061 - val_accuracy: 1.0000\n",
      "Epoch 31/50\n",
      "65/65 [==============================] - 10s 151ms/step - loss: 0.0316 - accuracy: 0.9923 - val_loss: 2.4835e-04 - val_accuracy: 1.0000\n",
      "Epoch 32/50\n",
      "65/65 [==============================] - 10s 152ms/step - loss: 0.0583 - accuracy: 0.9862 - val_loss: 0.0673 - val_accuracy: 0.9636\n",
      "Epoch 33/50\n",
      "65/65 [==============================] - 10s 150ms/step - loss: 0.0280 - accuracy: 0.9923 - val_loss: 0.0015 - val_accuracy: 1.0000\n",
      "Epoch 34/50\n",
      "65/65 [==============================] - 10s 153ms/step - loss: 0.0164 - accuracy: 0.9954 - val_loss: 0.0019 - val_accuracy: 1.0000\n",
      "Epoch 35/50\n",
      "65/65 [==============================] - 10s 152ms/step - loss: 0.0102 - accuracy: 0.9969 - val_loss: 2.1210e-04 - val_accuracy: 1.0000\n",
      "Epoch 36/50\n",
      "65/65 [==============================] - 10s 150ms/step - loss: 0.2713 - accuracy: 0.9092 - val_loss: 0.0263 - val_accuracy: 1.0000\n",
      "Epoch 37/50\n",
      "65/65 [==============================] - 10s 152ms/step - loss: 0.1216 - accuracy: 0.9646 - val_loss: 0.0049 - val_accuracy: 1.0000\n",
      "Epoch 38/50\n",
      "65/65 [==============================] - 10s 146ms/step - loss: 0.0460 - accuracy: 0.9846 - val_loss: 0.0058 - val_accuracy: 1.0000\n",
      "Epoch 39/50\n",
      "65/65 [==============================] - 10s 152ms/step - loss: 0.0291 - accuracy: 0.9938 - val_loss: 0.0014 - val_accuracy: 1.0000\n",
      "Epoch 40/50\n",
      "65/65 [==============================] - 10s 150ms/step - loss: 0.0454 - accuracy: 0.9862 - val_loss: 0.0037 - val_accuracy: 1.0000\n",
      "Epoch 41/50\n",
      "65/65 [==============================] - 10s 151ms/step - loss: 0.0420 - accuracy: 0.9877 - val_loss: 0.0044 - val_accuracy: 1.0000\n",
      "Epoch 42/50\n",
      "65/65 [==============================] - 10s 148ms/step - loss: 0.0546 - accuracy: 0.9831 - val_loss: 0.0056 - val_accuracy: 1.0000\n",
      "Epoch 43/50\n",
      "65/65 [==============================] - 10s 148ms/step - loss: 0.0107 - accuracy: 0.9969 - val_loss: 0.0021 - val_accuracy: 1.0000\n",
      "Epoch 44/50\n",
      "65/65 [==============================] - 10s 149ms/step - loss: 0.0591 - accuracy: 0.9862 - val_loss: 0.0033 - val_accuracy: 1.0000\n",
      "Epoch 45/50\n",
      "65/65 [==============================] - 10s 148ms/step - loss: 0.0726 - accuracy: 0.9785 - val_loss: 0.0018 - val_accuracy: 1.0000\n",
      "Epoch 46/50\n",
      "65/65 [==============================] - 10s 149ms/step - loss: 0.0227 - accuracy: 0.9938 - val_loss: 0.0010 - val_accuracy: 1.0000\n",
      "Epoch 47/50\n",
      "65/65 [==============================] - 10s 148ms/step - loss: 0.0088 - accuracy: 0.9985 - val_loss: 3.6248e-04 - val_accuracy: 1.0000\n",
      "Epoch 48/50\n",
      "65/65 [==============================] - 10s 154ms/step - loss: 0.0140 - accuracy: 0.9954 - val_loss: 1.4784e-04 - val_accuracy: 1.0000\n",
      "Epoch 49/50\n",
      "65/65 [==============================] - 10s 148ms/step - loss: 0.0167 - accuracy: 0.9954 - val_loss: 6.9684e-05 - val_accuracy: 1.0000\n",
      "Epoch 50/50\n",
      "65/65 [==============================] - 10s 150ms/step - loss: 0.0233 - accuracy: 0.9908 - val_loss: 0.0023 - val_accuracy: 1.0000\n"
     ]
    }
   ],
   "source": [
    "#from tensorflow.python.keras.callbacks import EarlyStopping\n",
    "#callback = tf.keras.callbacks.EarlyStopping(monitor='val_loss' , patience= 3 , verbose=1)\n",
    "\n",
    "epochs = 50\n",
    "history = model.fit(\n",
    "    train_data_gen,\n",
    "    steps_per_epoch=int(np.ceil(train_data_gen.n / float(batch_size))), #alle Bilder / 10\n",
    "    epochs=epochs,\n",
    "    validation_data=val_data_gen,\n",
    "    validation_steps=int(np.ceil(val_data_gen.n / float(batch_size))),\n",
    "    #callbacks=[callback]\n",
    ")"
   ],
   "metadata": {
    "collapsed": false,
    "pycharm": {
     "name": "#%%\n"
    }
   }
  },
  {
   "cell_type": "code",
   "execution_count": 12,
   "outputs": [
    {
     "data": {
      "text/plain": "<Figure size 576x576 with 2 Axes>",
      "image/png": "[encoded data removed]"
     },
     "metadata": {
      "needs_background": "light"
     },
     "output_type": "display_data"
    }
   ],
   "source": [
    "acc = history.history['accuracy']\n",
    "val_acc = history.history['val_accuracy']\n",
    "\n",
    "loss = history.history['loss']\n",
    "val_loss = history.history['val_loss']\n",
    "\n",
    "epochs_range = range(epochs)\n",
    "\n",
    "plt.figure(figsize=(8, 8))\n",
    "plt.subplot(1, 2, 1)\n",
    "plt.plot(epochs_range, acc, label='Training Accuracy')\n",
    "plt.plot(epochs_range, val_acc, label='Validation Accuracy')\n",
    "plt.legend(loc='lower right')\n",
    "plt.title('Training and Validation Accuracy')\n",
    "\n",
    "plt.subplot(1, 2, 2)\n",
    "plt.plot(epochs_range, loss, label='Training Loss')\n",
    "plt.plot(epochs_range, val_loss, label='Validation Loss')\n",
    "plt.legend(loc='upper right')\n",
    "plt.title('Training and Validation Loss')\n",
    "plt.show()"
   ],
   "metadata": {
    "collapsed": false,
    "pycharm": {
     "name": "#%%\n"
    }
   }
  },
  {
   "cell_type": "code",
   "execution_count": 13,
   "outputs": [
    {
     "name": "stdout",
     "output_type": "stream",
     "text": [
      "33/33 [==============================] - 1s 43ms/step - loss: 0.0039 - accuracy: 1.0000\n"
     ]
    }
   ],
   "source": [
    "evaluated = model.evaluate(\n",
    "    x = test_data_gen)"
   ],
   "metadata": {
    "collapsed": false,
    "pycharm": {
     "name": "#%%\n"
    }
   }
  },
  {
   "cell_type": "code",
   "execution_count": 15,
   "outputs": [
    {
     "name": "stdout",
     "output_type": "stream",
     "text": [
      "Found 175 images belonging to 1 classes.\n",
      "\n",
      "Lächeln Bild, die KI Werte:    lachen:100.0      Neutral:0    richtig geschätzt:   True\n",
      "\n",
      "Lächeln Bild, die KI Werte:    lachen:100.0      Neutral:0    richtig geschätzt:   True\n",
      "\n",
      "Lächeln Bild, die KI Werte:    lachen:100.0      Neutral:0    richtig geschätzt:   True\n",
      "\n",
      "Lächeln Bild, die KI Werte:    lachen:100.0      Neutral:0    richtig geschätzt:   True\n",
      "\n",
      "Lächeln Bild, die KI Werte:    lachen:100.0      Neutral:0    richtig geschätzt:   True\n",
      "\n",
      "Lächeln Bild, die KI Werte:    lachen:100.0      Neutral:0    richtig geschätzt:   True\n",
      "\n",
      "Lächeln Bild, die KI Werte:    lachen:100.0      Neutral:0    richtig geschätzt:   True\n",
      "\n",
      "Lächeln Bild, die KI Werte:    lachen:100.0      Neutral:0    richtig geschätzt:   True\n",
      "\n",
      "Lächeln Bild, die KI Werte:    lachen:100.0      Neutral:0    richtig geschätzt:   True\n",
      "\n",
      "Lächeln Bild, die KI Werte:    lachen:100.0      Neutral:0    richtig geschätzt:   True\n",
      "\n",
      "Lächeln Bild, die KI Werte:    lachen:100.0      Neutral:0    richtig geschätzt:   True\n",
      "\n",
      "Lächeln Bild, die KI Werte:    lachen:100.0      Neutral:0    richtig geschätzt:   True\n",
      "\n",
      "Lächeln Bild, die KI Werte:    lachen:100.0      Neutral:0    richtig geschätzt:   True\n",
      "\n",
      "Lächeln Bild, die KI Werte:    lachen:100.0      Neutral:0    richtig geschätzt:   True\n",
      "\n",
      "Lächeln Bild, die KI Werte:    lachen:100.0      Neutral:0    richtig geschätzt:   True\n",
      "\n",
      "Lächeln Bild, die KI Werte:    lachen:100.0      Neutral:0    richtig geschätzt:   True\n",
      "\n",
      "Lächeln Bild, die KI Werte:    lachen:100.0      Neutral:0    richtig geschätzt:   True\n",
      "\n",
      "Lächeln Bild, die KI Werte:    lachen:100.0      Neutral:0    richtig geschätzt:   True\n",
      "\n",
      "Lächeln Bild, die KI Werte:    lachen:100.0      Neutral:0    richtig geschätzt:   True\n",
      "\n",
      "Lächeln Bild, die KI Werte:    lachen:100.0      Neutral:0    richtig geschätzt:   True\n",
      "\n",
      "Lächeln Bild, die KI Werte:    lachen:100.0      Neutral:0    richtig geschätzt:   True\n",
      "\n",
      "Lächeln Bild, die KI Werte:    lachen:100.0      Neutral:0    richtig geschätzt:   True\n",
      "\n",
      "Lächeln Bild, die KI Werte:    lachen:100.0      Neutral:0    richtig geschätzt:   True\n",
      "\n",
      "Lächeln Bild, die KI Werte:    lachen:100.0      Neutral:0    richtig geschätzt:   True\n",
      "\n",
      "Lächeln Bild, die KI Werte:    lachen:100.0      Neutral:0    richtig geschätzt:   True\n",
      "\n",
      "Lächeln Bild, die KI Werte:    lachen:100.0      Neutral:0    richtig geschätzt:   True\n",
      "\n",
      "Lächeln Bild, die KI Werte:    lachen:100.0      Neutral:0    richtig geschätzt:   True\n",
      "\n",
      "Lächeln Bild, die KI Werte:    lachen:100.0      Neutral:0    richtig geschätzt:   True\n",
      "\n",
      "Lächeln Bild, die KI Werte:    lachen:100.0      Neutral:0    richtig geschätzt:   True\n",
      "\n",
      "Lächeln Bild, die KI Werte:    lachen:100.0      Neutral:0    richtig geschätzt:   True\n",
      "\n",
      "Lächeln Bild, die KI Werte:    lachen:100.0      Neutral:0    richtig geschätzt:   True\n",
      "\n",
      "Lächeln Bild, die KI Werte:    lachen:100.0      Neutral:0    richtig geschätzt:   True\n",
      "\n",
      "Lächeln Bild, die KI Werte:    lachen:100.0      Neutral:0    richtig geschätzt:   True\n",
      "\n",
      "Lächeln Bild, die KI Werte:    lachen:100.0      Neutral:0    richtig geschätzt:   True\n",
      "\n",
      "Lächeln Bild, die KI Werte:    lachen:100.0      Neutral:0    richtig geschätzt:   True\n",
      "\n",
      "Lächeln Bild, die KI Werte:    lachen:100.0      Neutral:0    richtig geschätzt:   True\n",
      "\n",
      "Lächeln Bild, die KI Werte:    lachen:100.0      Neutral:0    richtig geschätzt:   True\n",
      "\n",
      "Lächeln Bild, die KI Werte:    lachen:100.0      Neutral:0    richtig geschätzt:   True\n",
      "\n",
      "Lächeln Bild, die KI Werte:    lachen:100.0      Neutral:0    richtig geschätzt:   True\n",
      "\n",
      "Lächeln Bild, die KI Werte:    lachen:100.0      Neutral:0    richtig geschätzt:   True\n",
      "\n",
      "Lächeln Bild, die KI Werte:    lachen:100.0      Neutral:0    richtig geschätzt:   True\n",
      "\n",
      "Lächeln Bild, die KI Werte:    lachen:100.0      Neutral:0    richtig geschätzt:   True\n",
      "\n",
      "Lächeln Bild, die KI Werte:    lachen:100.0      Neutral:0    richtig geschätzt:   True\n",
      "\n",
      "Lächeln Bild, die KI Werte:    lachen:100.0      Neutral:0    richtig geschätzt:   True\n",
      "\n",
      "Lächeln Bild, die KI Werte:    lachen:100.0      Neutral:0    richtig geschätzt:   True\n",
      "\n",
      "Lächeln Bild, die KI Werte:    lachen:100.0      Neutral:0    richtig geschätzt:   True\n",
      "\n",
      "Lächeln Bild, die KI Werte:    lachen:100.0      Neutral:0    richtig geschätzt:   True\n",
      "\n",
      "Lächeln Bild, die KI Werte:    lachen:100.0      Neutral:0    richtig geschätzt:   True\n",
      "\n",
      "Lächeln Bild, die KI Werte:    lachen:100.0      Neutral:0    richtig geschätzt:   True\n",
      "\n",
      "Lächeln Bild, die KI Werte:    lachen:100.0      Neutral:0    richtig geschätzt:   True\n",
      "\n",
      "Lächeln Bild, die KI Werte:    lachen:100.0      Neutral:0    richtig geschätzt:   True\n",
      "\n",
      "Lächeln Bild, die KI Werte:    lachen:100.0      Neutral:0    richtig geschätzt:   True\n",
      "\n",
      "Lächeln Bild, die KI Werte:    lachen:100.0      Neutral:0    richtig geschätzt:   True\n",
      "\n",
      "Lächeln Bild, die KI Werte:    lachen:100.0      Neutral:0    richtig geschätzt:   True\n",
      "\n",
      "Lächeln Bild, die KI Werte:    lachen:100.0      Neutral:0    richtig geschätzt:   True\n",
      "\n",
      "Lächeln Bild, die KI Werte:    lachen:100.0      Neutral:0    richtig geschätzt:   True\n",
      "\n",
      "Lächeln Bild, die KI Werte:    lachen:100.0      Neutral:0    richtig geschätzt:   True\n",
      "\n",
      "Lächeln Bild, die KI Werte:    lachen:100.0      Neutral:0    richtig geschätzt:   True\n",
      "\n",
      "Lächeln Bild, die KI Werte:    lachen:100.0      Neutral:0    richtig geschätzt:   True\n",
      "\n",
      "Lächeln Bild, die KI Werte:    lachen:100.0      Neutral:0    richtig geschätzt:   True\n",
      "\n",
      "Lächeln Bild, die KI Werte:    lachen:100.0      Neutral:0    richtig geschätzt:   True\n",
      "\n",
      "Lächeln Bild, die KI Werte:    lachen:100.0      Neutral:0    richtig geschätzt:   True\n",
      "\n",
      "Lächeln Bild, die KI Werte:    lachen:100.0      Neutral:0    richtig geschätzt:   True\n",
      "\n",
      "Lächeln Bild, die KI Werte:    lachen:100.0      Neutral:0    richtig geschätzt:   True\n",
      "\n",
      "Lächeln Bild, die KI Werte:    lachen:100.0      Neutral:0    richtig geschätzt:   True\n",
      "\n",
      "Lächeln Bild, die KI Werte:    lachen:100.0      Neutral:0    richtig geschätzt:   True\n",
      "\n",
      "Lächeln Bild, die KI Werte:    lachen:100.0      Neutral:0    richtig geschätzt:   True\n",
      "\n",
      "Lächeln Bild, die KI Werte:    lachen:100.0      Neutral:0    richtig geschätzt:   True\n",
      "\n",
      "Lächeln Bild, die KI Werte:    lachen:100.0      Neutral:0    richtig geschätzt:   True\n",
      "\n",
      "Lächeln Bild, die KI Werte:    lachen:100.0      Neutral:0    richtig geschätzt:   True\n",
      "\n",
      "Lächeln Bild, die KI Werte:    lachen:100.0      Neutral:0    richtig geschätzt:   True\n",
      "\n",
      "Lächeln Bild, die KI Werte:    lachen:100.0      Neutral:0    richtig geschätzt:   True\n",
      "\n",
      "Lächeln Bild, die KI Werte:    lachen:100.0      Neutral:0    richtig geschätzt:   True\n",
      "\n",
      "Lächeln Bild, die KI Werte:    lachen:100.0      Neutral:0    richtig geschätzt:   True\n",
      "\n",
      "Lächeln Bild, die KI Werte:    lachen:100.0      Neutral:0    richtig geschätzt:   True\n",
      "\n",
      "Lächeln Bild, die KI Werte:    lachen:100.0      Neutral:0    richtig geschätzt:   True\n",
      "\n",
      "Lächeln Bild, die KI Werte:    lachen:100.0      Neutral:0    richtig geschätzt:   True\n",
      "\n",
      "Lächeln Bild, die KI Werte:    lachen:100.0      Neutral:0    richtig geschätzt:   True\n",
      "\n",
      "Lächeln Bild, die KI Werte:    lachen:100.0      Neutral:0    richtig geschätzt:   True\n",
      "\n",
      "Lächeln Bild, die KI Werte:    lachen:100.0      Neutral:0    richtig geschätzt:   True\n",
      "\n",
      "Lächeln Bild, die KI Werte:    lachen:100.0      Neutral:0    richtig geschätzt:   True\n",
      "\n",
      "Lächeln Bild, die KI Werte:    lachen:100.0      Neutral:0    richtig geschätzt:   True\n",
      "\n",
      "Lächeln Bild, die KI Werte:    lachen:100.0      Neutral:0    richtig geschätzt:   True\n",
      "\n",
      "Lächeln Bild, die KI Werte:    lachen:100.0      Neutral:0    richtig geschätzt:   True\n",
      "\n",
      "Lächeln Bild, die KI Werte:    lachen:100.0      Neutral:0    richtig geschätzt:   True\n",
      "\n",
      "Lächeln Bild, die KI Werte:    lachen:100.0      Neutral:0    richtig geschätzt:   True\n",
      "\n",
      "Lächeln Bild, die KI Werte:    lachen:100.0      Neutral:0    richtig geschätzt:   True\n",
      "\n",
      "Lächeln Bild, die KI Werte:    lachen:100.0      Neutral:0    richtig geschätzt:   True\n",
      "\n",
      "Lächeln Bild, die KI Werte:    lachen:100.0      Neutral:0    richtig geschätzt:   True\n",
      "\n",
      "Lächeln Bild, die KI Werte:    lachen:100.0      Neutral:0    richtig geschätzt:   True\n",
      "\n",
      "Lächeln Bild, die KI Werte:    lachen:100.0      Neutral:0    richtig geschätzt:   True\n",
      "\n",
      "Lächeln Bild, die KI Werte:    lachen:100.0      Neutral:0    richtig geschätzt:   True\n",
      "\n",
      "Lächeln Bild, die KI Werte:    lachen:100.0      Neutral:0    richtig geschätzt:   True\n",
      "\n",
      "Lächeln Bild, die KI Werte:    lachen:100.0      Neutral:0    richtig geschätzt:   True\n",
      "\n",
      "Lächeln Bild, die KI Werte:    lachen:100.0      Neutral:0    richtig geschätzt:   True\n",
      "\n",
      "Lächeln Bild, die KI Werte:    lachen:100.0      Neutral:0    richtig geschätzt:   True\n",
      "\n",
      "Lächeln Bild, die KI Werte:    lachen:100.0      Neutral:0    richtig geschätzt:   True\n",
      "\n",
      "Lächeln Bild, die KI Werte:    lachen:100.0      Neutral:0    richtig geschätzt:   True\n",
      "\n",
      "Lächeln Bild, die KI Werte:    lachen:100.0      Neutral:0    richtig geschätzt:   True\n",
      "\n",
      "Lächeln Bild, die KI Werte:    lachen:100.0      Neutral:0    richtig geschätzt:   True\n",
      "\n",
      "Lächeln Bild, die KI Werte:    lachen:100.0      Neutral:0    richtig geschätzt:   True\n",
      "\n",
      "Lächeln Bild, die KI Werte:    lachen:100.0      Neutral:0    richtig geschätzt:   True\n",
      "\n",
      "Lächeln Bild, die KI Werte:    lachen:100.0      Neutral:0    richtig geschätzt:   True\n",
      "\n",
      "Lächeln Bild, die KI Werte:    lachen:100.0      Neutral:0    richtig geschätzt:   True\n",
      "\n",
      "Lächeln Bild, die KI Werte:    lachen:100.0      Neutral:0    richtig geschätzt:   True\n",
      "\n",
      "Lächeln Bild, die KI Werte:    lachen:100.0      Neutral:0    richtig geschätzt:   True\n",
      "\n",
      "Lächeln Bild, die KI Werte:    lachen:100.0      Neutral:0    richtig geschätzt:   True\n",
      "\n",
      "Lächeln Bild, die KI Werte:    lachen:100.0      Neutral:0    richtig geschätzt:   True\n",
      "\n",
      "Lächeln Bild, die KI Werte:    lachen:100.0      Neutral:0    richtig geschätzt:   True\n",
      "\n",
      "Lächeln Bild, die KI Werte:    lachen:100.0      Neutral:0    richtig geschätzt:   True\n",
      "\n",
      "Lächeln Bild, die KI Werte:    lachen:100.0      Neutral:0    richtig geschätzt:   True\n",
      "\n",
      "Lächeln Bild, die KI Werte:    lachen:100.0      Neutral:0    richtig geschätzt:   True\n",
      "\n",
      "Lächeln Bild, die KI Werte:    lachen:100.0      Neutral:0    richtig geschätzt:   True\n",
      "\n",
      "Lächeln Bild, die KI Werte:    lachen:100.0      Neutral:0    richtig geschätzt:   True\n",
      "\n",
      "Lächeln Bild, die KI Werte:    lachen:100.0      Neutral:0    richtig geschätzt:   True\n",
      "\n",
      "Lächeln Bild, die KI Werte:    lachen:100.0      Neutral:0    richtig geschätzt:   True\n",
      "\n",
      "Lächeln Bild, die KI Werte:    lachen:100.0      Neutral:0    richtig geschätzt:   True\n",
      "\n",
      "Lächeln Bild, die KI Werte:    lachen:100.0      Neutral:0    richtig geschätzt:   True\n",
      "\n",
      "Lächeln Bild, die KI Werte:    lachen:100.0      Neutral:0    richtig geschätzt:   True\n",
      "\n",
      "Lächeln Bild, die KI Werte:    lachen:100.0      Neutral:0    richtig geschätzt:   True\n",
      "\n",
      "Lächeln Bild, die KI Werte:    lachen:100.0      Neutral:0    richtig geschätzt:   True\n",
      "\n",
      "Lächeln Bild, die KI Werte:    lachen:100.0      Neutral:0    richtig geschätzt:   True\n",
      "\n",
      "Lächeln Bild, die KI Werte:    lachen:100.0      Neutral:0    richtig geschätzt:   True\n",
      "\n",
      "Lächeln Bild, die KI Werte:    lachen:100.0      Neutral:0    richtig geschätzt:   True\n",
      "\n",
      "Lächeln Bild, die KI Werte:    lachen:100.0      Neutral:0    richtig geschätzt:   True\n",
      "\n",
      "Lächeln Bild, die KI Werte:    lachen:100.0      Neutral:0    richtig geschätzt:   True\n",
      "\n",
      "Lächeln Bild, die KI Werte:    lachen:100.0      Neutral:0    richtig geschätzt:   True\n",
      "\n",
      "Lächeln Bild, die KI Werte:    lachen:100.0      Neutral:0    richtig geschätzt:   True\n",
      "\n",
      "Lächeln Bild, die KI Werte:    lachen:100.0      Neutral:0    richtig geschätzt:   True\n",
      "\n",
      "Lächeln Bild, die KI Werte:    lachen:100.0      Neutral:0    richtig geschätzt:   True\n",
      "\n",
      "Lächeln Bild, die KI Werte:    lachen:100.0      Neutral:0    richtig geschätzt:   True\n",
      "\n",
      "Lächeln Bild, die KI Werte:    lachen:100.0      Neutral:0    richtig geschätzt:   True\n",
      "\n",
      "Lächeln Bild, die KI Werte:    lachen:100.0      Neutral:0    richtig geschätzt:   True\n",
      "\n",
      "Lächeln Bild, die KI Werte:    lachen:100.0      Neutral:0    richtig geschätzt:   True\n",
      "\n",
      "Lächeln Bild, die KI Werte:    lachen:100.0      Neutral:0    richtig geschätzt:   True\n",
      "\n",
      "Lächeln Bild, die KI Werte:    lachen:100.0      Neutral:0    richtig geschätzt:   True\n",
      "\n",
      "Lächeln Bild, die KI Werte:    lachen:100.0      Neutral:0    richtig geschätzt:   True\n",
      "\n",
      "Lächeln Bild, die KI Werte:    lachen:100.0      Neutral:0    richtig geschätzt:   True\n",
      "\n",
      "Lächeln Bild, die KI Werte:    lachen:100.0      Neutral:0    richtig geschätzt:   True\n",
      "\n",
      "Lächeln Bild, die KI Werte:    lachen:100.0      Neutral:0    richtig geschätzt:   True\n",
      "\n",
      "Lächeln Bild, die KI Werte:    lachen:100.0      Neutral:0    richtig geschätzt:   True\n",
      "\n",
      "Lächeln Bild, die KI Werte:    lachen:100.0      Neutral:0    richtig geschätzt:   True\n",
      "\n",
      "Lächeln Bild, die KI Werte:    lachen:100.0      Neutral:0    richtig geschätzt:   True\n",
      "\n",
      "Lächeln Bild, die KI Werte:    lachen:100.0      Neutral:0    richtig geschätzt:   True\n",
      "\n",
      "Lächeln Bild, die KI Werte:    lachen:100.0      Neutral:0    richtig geschätzt:   True\n",
      "\n",
      "Lächeln Bild, die KI Werte:    lachen:100.0      Neutral:0    richtig geschätzt:   True\n",
      "\n",
      "Lächeln Bild, die KI Werte:    lachen:100.0      Neutral:0    richtig geschätzt:   True\n",
      "\n",
      "Lächeln Bild, die KI Werte:    lachen:100.0      Neutral:0    richtig geschätzt:   True\n",
      "\n",
      "Lächeln Bild, die KI Werte:    lachen:100.0      Neutral:0    richtig geschätzt:   True\n",
      "\n",
      "Lächeln Bild, die KI Werte:    lachen:100.0      Neutral:0    richtig geschätzt:   True\n",
      "\n",
      "Lächeln Bild, die KI Werte:    lachen:100.0      Neutral:0    richtig geschätzt:   True\n",
      "\n",
      "Lächeln Bild, die KI Werte:    lachen:100.0      Neutral:0    richtig geschätzt:   True\n",
      "\n",
      "Lächeln Bild, die KI Werte:    lachen:100.0      Neutral:0    richtig geschätzt:   True\n",
      "\n",
      "Lächeln Bild, die KI Werte:    lachen:100.0      Neutral:0    richtig geschätzt:   True\n",
      "\n",
      "Lächeln Bild, die KI Werte:    lachen:100.0      Neutral:0    richtig geschätzt:   True\n",
      "\n",
      "Lächeln Bild, die KI Werte:    lachen:100.0      Neutral:0    richtig geschätzt:   True\n",
      "\n",
      "Lächeln Bild, die KI Werte:    lachen:100.0      Neutral:0    richtig geschätzt:   True\n",
      "\n",
      "Lächeln Bild, die KI Werte:    lachen:100.0      Neutral:0    richtig geschätzt:   True\n",
      "\n",
      "Lächeln Bild, die KI Werte:    lachen:100.0      Neutral:0    richtig geschätzt:   True\n",
      "\n",
      "Lächeln Bild, die KI Werte:    lachen:100.0      Neutral:0    richtig geschätzt:   True\n",
      "\n",
      "Lächeln Bild, die KI Werte:    lachen:100.0      Neutral:0    richtig geschätzt:   True\n",
      "\n",
      "Lächeln Bild, die KI Werte:    lachen:100.0      Neutral:0    richtig geschätzt:   True\n",
      "\n",
      "Lächeln Bild, die KI Werte:    lachen:100.0      Neutral:0    richtig geschätzt:   True\n",
      "\n",
      "Lächeln Bild, die KI Werte:    lachen:100.0      Neutral:0    richtig geschätzt:   True\n",
      "\n",
      "Lächeln Bild, die KI Werte:    lachen:100.0      Neutral:0    richtig geschätzt:   True\n",
      "\n",
      "Lächeln Bild, die KI Werte:    lachen:100.0      Neutral:0    richtig geschätzt:   True\n",
      "\n",
      "Lächeln Bild, die KI Werte:    lachen:100.0      Neutral:0    richtig geschätzt:   True\n",
      "\n",
      "Lächeln Bild, die KI Werte:    lachen:100.0      Neutral:0    richtig geschätzt:   True\n",
      "\n",
      "Lächeln Bild, die KI Werte:    lachen:100.0      Neutral:0    richtig geschätzt:   True\n",
      "\n",
      "Lächeln Bild, die KI Werte:    lachen:100.0      Neutral:0    richtig geschätzt:   True\n",
      "\n",
      "Lächeln Bild, die KI Werte:    lachen:100.0      Neutral:0    richtig geschätzt:   True\n",
      "\n",
      "Lächeln Bild, die KI Werte:    lachen:100.0      Neutral:0    richtig geschätzt:   True\n",
      "\n",
      "Lächeln Bild, die KI Werte:    lachen:100.0      Neutral:0    richtig geschätzt:   True\n",
      "\n",
      "Lächeln Bild, die KI Werte:    lachen:100.0      Neutral:0    richtig geschätzt:   True\n",
      "\n",
      "Lächeln Bild, die KI Werte:    lachen:100.0      Neutral:0    richtig geschätzt:   True\n"
     ]
    }
   ],
   "source": [
    "predict_dir_smile = os.path.join(base_dir, 'test/smile')\n",
    "\n",
    "image_gen = ImageDataGenerator(\n",
    "    rescale=1./255\n",
    ")\n",
    "\n",
    "\n",
    "predict_smile_data_gen =  image_gen.flow_from_directory(\n",
    "    directory=predict_dir_smile,\n",
    "\n",
    "    target_size = (IMG_SHAPE, IMG_SHAPE),\n",
    "    batch_size= 86,\n",
    "    class_mode= 'sparse'\n",
    ")\n",
    "\n",
    "\n",
    "\n",
    "predicted_smile = model.predict(x = predict_smile_data_gen)\n",
    "\n",
    "\n",
    "\n",
    "for value in predicted_smile:\n",
    "    print(\"\\nLächeln Bild, die KI Werte:    lachen:{}      Neutral:{}\".format( round(value[0] *100 , 2) ,round(value[1] *100) ) , \"   richtig geschätzt:  \" ,  (value[0] > value[1]) )"
   ],
   "metadata": {
    "collapsed": false,
    "pycharm": {
     "name": "#%%\n"
    }
   }
  },
  {
   "cell_type": "code",
   "execution_count": 16,
   "outputs": [],
   "source": [
    "index = 0\n",
    "false_images = np.array([])\n",
    "for value in predicted_smile:\n",
    "    if value[0] < value[1]:\n",
    "        print(\"falsch geschätztes BILD:    lachen: {}      Neutral: {}        Bild_Index: {}\".format( round(value[0] *100 , 2) ,round(value[1] *100) , index ))\n",
    "        false_images = np.append(false_images , int(index))\n",
    "    index = index+1\n",
    "\n"
   ],
   "metadata": {
    "collapsed": false,
    "pycharm": {
     "name": "#%%\n"
    }
   }
  },
  {
   "cell_type": "code",
   "execution_count": 17,
   "outputs": [
    {
     "name": "stdout",
     "output_type": "stream",
     "text": [
      "zahl der Falsch geschätzten Bilder:  0\n"
     ]
    }
   ],
   "source": [
    "print(\"zahl der Falsch geschätzten Bilder: \" , len(false_images))"
   ],
   "metadata": {
    "collapsed": false,
    "pycharm": {
     "name": "#%%\n"
    }
   }
  },
  {
   "cell_type": "code",
   "execution_count": 18,
   "outputs": [],
   "source": [
    "for pic in false_images:\n",
    "    augmented_images = [predict_smile_data_gen[0][0][int(pic)] for i in range(5)]\n",
    "    plotImages(augmented_images)"
   ],
   "metadata": {
    "collapsed": false,
    "pycharm": {
     "name": "#%%\n"
    }
   }
  },
  {
   "cell_type": "code",
   "execution_count": 18,
   "outputs": [],
   "source": [],
   "metadata": {
    "collapsed": false,
    "pycharm": {
     "name": "#%%\n"
    }
   }
  },
  {
   "cell_type": "code",
   "execution_count": 18,
   "outputs": [],
   "source": [],
   "metadata": {
    "collapsed": false,
    "pycharm": {
     "name": "#%%\n"
    }
   }
  },
  {
   "cell_type": "code",
   "execution_count": 19,
   "outputs": [
    {
     "name": "stdout",
     "output_type": "stream",
     "text": [
      "Found 150 images belonging to 1 classes.\n",
      "Neutrales Bild, die KI Werte:   lachen:0.2      Neutral:100\n",
      "Neutrales Bild, die KI Werte:   lachen:0.21      Neutral:100\n",
      "Neutrales Bild, die KI Werte:   lachen:0.2      Neutral:100\n",
      "Neutrales Bild, die KI Werte:   lachen:0.27      Neutral:100\n",
      "Neutrales Bild, die KI Werte:   lachen:0.2      Neutral:100\n",
      "Neutrales Bild, die KI Werte:   lachen:0.19      Neutral:100\n",
      "Neutrales Bild, die KI Werte:   lachen:0.45      Neutral:100\n",
      "Neutrales Bild, die KI Werte:   lachen:0.35      Neutral:100\n",
      "Neutrales Bild, die KI Werte:   lachen:0.3      Neutral:100\n",
      "Neutrales Bild, die KI Werte:   lachen:0.77      Neutral:99\n",
      "Neutrales Bild, die KI Werte:   lachen:0.2      Neutral:100\n",
      "Neutrales Bild, die KI Werte:   lachen:0.16      Neutral:100\n",
      "Neutrales Bild, die KI Werte:   lachen:0.53      Neutral:99\n",
      "Neutrales Bild, die KI Werte:   lachen:0.22      Neutral:100\n",
      "Neutrales Bild, die KI Werte:   lachen:0.29      Neutral:100\n",
      "Neutrales Bild, die KI Werte:   lachen:0.22      Neutral:100\n",
      "Neutrales Bild, die KI Werte:   lachen:0.15      Neutral:100\n",
      "Neutrales Bild, die KI Werte:   lachen:0.62      Neutral:99\n",
      "Neutrales Bild, die KI Werte:   lachen:0.3      Neutral:100\n",
      "Neutrales Bild, die KI Werte:   lachen:1.63      Neutral:98\n",
      "Neutrales Bild, die KI Werte:   lachen:0.22      Neutral:100\n",
      "Neutrales Bild, die KI Werte:   lachen:0.44      Neutral:100\n",
      "Neutrales Bild, die KI Werte:   lachen:1.64      Neutral:98\n",
      "Neutrales Bild, die KI Werte:   lachen:0.31      Neutral:100\n",
      "Neutrales Bild, die KI Werte:   lachen:0.8      Neutral:99\n",
      "Neutrales Bild, die KI Werte:   lachen:0.43      Neutral:100\n",
      "Neutrales Bild, die KI Werte:   lachen:0.72      Neutral:99\n",
      "Neutrales Bild, die KI Werte:   lachen:0.7      Neutral:99\n",
      "Neutrales Bild, die KI Werte:   lachen:1.62      Neutral:98\n",
      "Neutrales Bild, die KI Werte:   lachen:1.08      Neutral:99\n",
      "Neutrales Bild, die KI Werte:   lachen:0.19      Neutral:100\n",
      "Neutrales Bild, die KI Werte:   lachen:0.16      Neutral:100\n",
      "Neutrales Bild, die KI Werte:   lachen:0.28      Neutral:100\n",
      "Neutrales Bild, die KI Werte:   lachen:2.66      Neutral:97\n",
      "Neutrales Bild, die KI Werte:   lachen:0.84      Neutral:99\n",
      "Neutrales Bild, die KI Werte:   lachen:1.32      Neutral:99\n",
      "Neutrales Bild, die KI Werte:   lachen:0.2      Neutral:100\n",
      "Neutrales Bild, die KI Werte:   lachen:0.56      Neutral:99\n",
      "Neutrales Bild, die KI Werte:   lachen:1.28      Neutral:99\n",
      "Neutrales Bild, die KI Werte:   lachen:7.76      Neutral:92\n",
      "Neutrales Bild, die KI Werte:   lachen:0.22      Neutral:100\n",
      "Neutrales Bild, die KI Werte:   lachen:0.15      Neutral:100\n",
      "Neutrales Bild, die KI Werte:   lachen:0.18      Neutral:100\n",
      "Neutrales Bild, die KI Werte:   lachen:0.88      Neutral:99\n",
      "Neutrales Bild, die KI Werte:   lachen:0.21      Neutral:100\n",
      "Neutrales Bild, die KI Werte:   lachen:0.37      Neutral:100\n",
      "Neutrales Bild, die KI Werte:   lachen:0.44      Neutral:100\n",
      "Neutrales Bild, die KI Werte:   lachen:1.37      Neutral:99\n",
      "Neutrales Bild, die KI Werte:   lachen:0.39      Neutral:100\n",
      "Neutrales Bild, die KI Werte:   lachen:0.1      Neutral:100\n",
      "Neutrales Bild, die KI Werte:   lachen:2.23      Neutral:98\n",
      "Neutrales Bild, die KI Werte:   lachen:0.27      Neutral:100\n",
      "Neutrales Bild, die KI Werte:   lachen:1.01      Neutral:99\n",
      "Neutrales Bild, die KI Werte:   lachen:0.57      Neutral:99\n",
      "Neutrales Bild, die KI Werte:   lachen:0.31      Neutral:100\n",
      "Neutrales Bild, die KI Werte:   lachen:0.22      Neutral:100\n",
      "Neutrales Bild, die KI Werte:   lachen:0.42      Neutral:100\n",
      "Neutrales Bild, die KI Werte:   lachen:0.18      Neutral:100\n",
      "Neutrales Bild, die KI Werte:   lachen:0.54      Neutral:99\n",
      "Neutrales Bild, die KI Werte:   lachen:0.17      Neutral:100\n",
      "Neutrales Bild, die KI Werte:   lachen:0.95      Neutral:99\n",
      "Neutrales Bild, die KI Werte:   lachen:0.47      Neutral:100\n",
      "Neutrales Bild, die KI Werte:   lachen:0.25      Neutral:100\n",
      "Neutrales Bild, die KI Werte:   lachen:0.42      Neutral:100\n",
      "Neutrales Bild, die KI Werte:   lachen:0.14      Neutral:100\n",
      "Neutrales Bild, die KI Werte:   lachen:0.19      Neutral:100\n",
      "Neutrales Bild, die KI Werte:   lachen:1.0      Neutral:99\n",
      "Neutrales Bild, die KI Werte:   lachen:0.17      Neutral:100\n",
      "Neutrales Bild, die KI Werte:   lachen:0.19      Neutral:100\n",
      "Neutrales Bild, die KI Werte:   lachen:0.29      Neutral:100\n",
      "Neutrales Bild, die KI Werte:   lachen:0.27      Neutral:100\n",
      "Neutrales Bild, die KI Werte:   lachen:1.61      Neutral:98\n",
      "Neutrales Bild, die KI Werte:   lachen:0.81      Neutral:99\n",
      "Neutrales Bild, die KI Werte:   lachen:0.17      Neutral:100\n",
      "Neutrales Bild, die KI Werte:   lachen:0.13      Neutral:100\n",
      "Neutrales Bild, die KI Werte:   lachen:0.74      Neutral:99\n",
      "Neutrales Bild, die KI Werte:   lachen:0.81      Neutral:99\n",
      "Neutrales Bild, die KI Werte:   lachen:0.26      Neutral:100\n",
      "Neutrales Bild, die KI Werte:   lachen:0.45      Neutral:100\n",
      "Neutrales Bild, die KI Werte:   lachen:0.21      Neutral:100\n",
      "Neutrales Bild, die KI Werte:   lachen:0.26      Neutral:100\n",
      "Neutrales Bild, die KI Werte:   lachen:16.51      Neutral:83\n",
      "Neutrales Bild, die KI Werte:   lachen:0.2      Neutral:100\n",
      "Neutrales Bild, die KI Werte:   lachen:0.51      Neutral:99\n",
      "Neutrales Bild, die KI Werte:   lachen:20.02      Neutral:80\n",
      "Neutrales Bild, die KI Werte:   lachen:0.15      Neutral:100\n",
      "Neutrales Bild, die KI Werte:   lachen:0.22      Neutral:100\n",
      "Neutrales Bild, die KI Werte:   lachen:0.33      Neutral:100\n",
      "Neutrales Bild, die KI Werte:   lachen:0.4      Neutral:100\n",
      "Neutrales Bild, die KI Werte:   lachen:0.79      Neutral:99\n",
      "Neutrales Bild, die KI Werte:   lachen:0.4      Neutral:100\n",
      "Neutrales Bild, die KI Werte:   lachen:0.26      Neutral:100\n",
      "Neutrales Bild, die KI Werte:   lachen:0.29      Neutral:100\n",
      "Neutrales Bild, die KI Werte:   lachen:0.22      Neutral:100\n",
      "Neutrales Bild, die KI Werte:   lachen:0.24      Neutral:100\n",
      "Neutrales Bild, die KI Werte:   lachen:0.18      Neutral:100\n",
      "Neutrales Bild, die KI Werte:   lachen:0.18      Neutral:100\n",
      "Neutrales Bild, die KI Werte:   lachen:0.32      Neutral:100\n",
      "Neutrales Bild, die KI Werte:   lachen:0.29      Neutral:100\n",
      "Neutrales Bild, die KI Werte:   lachen:0.66      Neutral:99\n",
      "Neutrales Bild, die KI Werte:   lachen:0.44      Neutral:100\n",
      "Neutrales Bild, die KI Werte:   lachen:0.26      Neutral:100\n",
      "Neutrales Bild, die KI Werte:   lachen:0.23      Neutral:100\n",
      "Neutrales Bild, die KI Werte:   lachen:0.91      Neutral:99\n",
      "Neutrales Bild, die KI Werte:   lachen:0.13      Neutral:100\n",
      "Neutrales Bild, die KI Werte:   lachen:0.12      Neutral:100\n",
      "Neutrales Bild, die KI Werte:   lachen:0.22      Neutral:100\n",
      "Neutrales Bild, die KI Werte:   lachen:0.92      Neutral:99\n",
      "Neutrales Bild, die KI Werte:   lachen:0.64      Neutral:99\n",
      "Neutrales Bild, die KI Werte:   lachen:1.15      Neutral:99\n",
      "Neutrales Bild, die KI Werte:   lachen:0.87      Neutral:99\n",
      "Neutrales Bild, die KI Werte:   lachen:0.18      Neutral:100\n",
      "Neutrales Bild, die KI Werte:   lachen:0.13      Neutral:100\n",
      "Neutrales Bild, die KI Werte:   lachen:0.17      Neutral:100\n",
      "Neutrales Bild, die KI Werte:   lachen:0.36      Neutral:100\n",
      "Neutrales Bild, die KI Werte:   lachen:0.18      Neutral:100\n",
      "Neutrales Bild, die KI Werte:   lachen:0.55      Neutral:99\n",
      "Neutrales Bild, die KI Werte:   lachen:0.26      Neutral:100\n",
      "Neutrales Bild, die KI Werte:   lachen:0.68      Neutral:99\n",
      "Neutrales Bild, die KI Werte:   lachen:0.81      Neutral:99\n",
      "Neutrales Bild, die KI Werte:   lachen:0.28      Neutral:100\n",
      "Neutrales Bild, die KI Werte:   lachen:0.91      Neutral:99\n",
      "Neutrales Bild, die KI Werte:   lachen:3.95      Neutral:96\n",
      "Neutrales Bild, die KI Werte:   lachen:1.63      Neutral:98\n",
      "Neutrales Bild, die KI Werte:   lachen:0.18      Neutral:100\n",
      "Neutrales Bild, die KI Werte:   lachen:0.29      Neutral:100\n",
      "Neutrales Bild, die KI Werte:   lachen:0.77      Neutral:99\n",
      "Neutrales Bild, die KI Werte:   lachen:0.16      Neutral:100\n",
      "Neutrales Bild, die KI Werte:   lachen:0.29      Neutral:100\n",
      "Neutrales Bild, die KI Werte:   lachen:0.76      Neutral:99\n",
      "Neutrales Bild, die KI Werte:   lachen:0.59      Neutral:99\n",
      "Neutrales Bild, die KI Werte:   lachen:0.36      Neutral:100\n",
      "Neutrales Bild, die KI Werte:   lachen:0.31      Neutral:100\n",
      "Neutrales Bild, die KI Werte:   lachen:0.35      Neutral:100\n",
      "Neutrales Bild, die KI Werte:   lachen:0.25      Neutral:100\n",
      "Neutrales Bild, die KI Werte:   lachen:0.99      Neutral:99\n",
      "Neutrales Bild, die KI Werte:   lachen:0.91      Neutral:99\n",
      "Neutrales Bild, die KI Werte:   lachen:0.92      Neutral:99\n",
      "Neutrales Bild, die KI Werte:   lachen:0.38      Neutral:100\n",
      "Neutrales Bild, die KI Werte:   lachen:0.26      Neutral:100\n",
      "Neutrales Bild, die KI Werte:   lachen:0.14      Neutral:100\n",
      "Neutrales Bild, die KI Werte:   lachen:0.14      Neutral:100\n",
      "Neutrales Bild, die KI Werte:   lachen:0.19      Neutral:100\n",
      "Neutrales Bild, die KI Werte:   lachen:0.96      Neutral:99\n",
      "Neutrales Bild, die KI Werte:   lachen:1.27      Neutral:99\n",
      "Neutrales Bild, die KI Werte:   lachen:0.94      Neutral:99\n",
      "Neutrales Bild, die KI Werte:   lachen:0.13      Neutral:100\n",
      "Neutrales Bild, die KI Werte:   lachen:0.1      Neutral:100\n",
      "Neutrales Bild, die KI Werte:   lachen:0.15      Neutral:100\n",
      "Neutrales Bild, die KI Werte:   lachen:0.42      Neutral:100\n"
     ]
    }
   ],
   "source": [
    "predict_dir = os.path.join(base_dir, 'test/neutral')\n",
    "\n",
    "image_gen = ImageDataGenerator(\n",
    "    rescale=1./255\n",
    ")\n",
    "\n",
    "\n",
    "predict_neutral_data_gen =  image_gen.flow_from_directory(\n",
    "    directory=predict_dir,\n",
    "    target_size = (IMG_SHAPE, IMG_SHAPE),\n",
    "    batch_size= 43,\n",
    "    class_mode= 'sparse')\n",
    "\n",
    "\n",
    "\n",
    "predicted = model.predict(x = predict_neutral_data_gen)\n",
    "for value in predicted:\n",
    "    print(\"Neutrales Bild, die KI Werte:   lachen:{}      Neutral:{}\".format( round(value[0] *100 , 2) ,round(value[1] *100) ))"
   ],
   "metadata": {
    "collapsed": false,
    "pycharm": {
     "name": "#%%\n"
    }
   }
  },
  {
   "cell_type": "code",
   "execution_count": 20,
   "outputs": [],
   "source": [
    "index = 0\n",
    "false_images = np.array([])\n",
    "for value in predicted:\n",
    "    if value[0] > value[1]:\n",
    "        print(\"falsch geschätztes BILD:    lachen: {}      Neutral: {}        Bild_Index: {}\".format( round(value[0] *100 , 2) ,round(value[1] *100) , index ))\n",
    "        false_images = np.append(false_images , int(index))\n",
    "    index = index+1"
   ],
   "metadata": {
    "collapsed": false,
    "pycharm": {
     "name": "#%%\n"
    }
   }
  },
  {
   "cell_type": "code",
   "execution_count": 21,
   "outputs": [
    {
     "name": "stdout",
     "output_type": "stream",
     "text": [
      "zahl der Falsch geschätzten Bilder:  0\n"
     ]
    }
   ],
   "source": [
    "print(\"zahl der Falsch geschätzten Bilder: \" , len(false_images))"
   ],
   "metadata": {
    "collapsed": false,
    "pycharm": {
     "name": "#%%\n"
    }
   }
  },
  {
   "cell_type": "code",
   "execution_count": 22,
   "outputs": [],
   "source": [
    "for pic in false_images:\n",
    "    augmented_images = [predict_neutral_data_gen[0][0][int(pic)] for i in range(5)]\n",
    "    plotImages(augmented_images)"
   ],
   "metadata": {
    "collapsed": false,
    "pycharm": {
     "name": "#%%\n"
    }
   }
  },
  {
   "cell_type": "code",
   "execution_count": null,
   "outputs": [],
   "source": [],
   "metadata": {
    "collapsed": false,
    "pycharm": {
     "name": "#%%\n"
    }
   }
  }
 ],
 "metadata": {
  "kernelspec": {
   "display_name": "Python 3",
   "language": "python",
   "name": "python3"
  },
  "language_info": {
   "codemirror_mode": {
    "name": "ipython",
    "version": 2
   },
   "file_extension": ".py",
   "mimetype": "text/x-python",
   "name": "python",
   "nbconvert_exporter": "python",
   "pygments_lexer": "ipython2",
   "version": "2.7.6"
  }
 },
 "nbformat": 4,
 "nbformat_minor": 0
}