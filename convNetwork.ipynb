{
 "cells": [
  {
   "cell_type": "markdown",
   "source": [
    "# In diesem Notebook habe ich Probiert, ein Modell mit 2 Emotionen (happy, neutral) zu trainieren\n",
    "# das Endprodukt würde auf einer ähnlichen Basis aufgebaut"
   ],
   "metadata": {
    "collapsed": false,
    "pycharm": {
     "name": "#%% md\n"
    }
   }
  },
  {
   "cell_type": "code",
   "execution_count": 1,
   "metadata": {
    "collapsed": true,
    "pycharm": {
     "name": "#%%\n"
    }
   },
   "outputs": [
    {
     "name": "stdout",
     "output_type": "stream",
     "text": [
      "Found 2064 files belonging to 2 classes.\n",
      "Metal device set to: Apple M1\n",
      "Found 1063 files belonging to 2 classes.\n",
      "Epoch 1/30\n"
     ]
    },
    {
     "name": "stderr",
     "output_type": "stream",
     "text": [
      "2022-05-10 16:14:04.804955: I tensorflow/core/common_runtime/pluggable_device/pluggable_device_factory.cc:305] Could not identify NUMA node of platform GPU ID 0, defaulting to 0. Your kernel may not have been built with NUMA support.\n",
      "2022-05-10 16:14:04.805102: I tensorflow/core/common_runtime/pluggable_device/pluggable_device_factory.cc:271] Created TensorFlow device (/job:localhost/replica:0/task:0/device:GPU:0 with 0 MB memory) -> physical PluggableDevice (device: 0, name: METAL, pci bus id: <undefined>)\n",
      "2022-05-10 16:14:05.252660: W tensorflow/core/platform/profile_utils/cpu_utils.cc:128] Failed to get CPU frequency: 0 Hz\n",
      "2022-05-10 16:14:05.252730: I tensorflow/core/grappler/optimizers/custom_graph_optimizer_registry.cc:113] Plugin optimizer for device_type GPU is enabled.\n"
     ]
    },
    {
     "name": "stdout",
     "output_type": "stream",
     "text": [
      "65/65 [==============================] - 12s 169ms/step - loss: 0.6928 - accuracy: 0.5087\n",
      "Epoch 2/30\n",
      "65/65 [==============================] - 11s 162ms/step - loss: 0.6918 - accuracy: 0.5310\n",
      "Epoch 3/30\n",
      "65/65 [==============================] - 11s 161ms/step - loss: 0.6900 - accuracy: 0.5606\n",
      "Epoch 4/30\n",
      "65/65 [==============================] - 11s 168ms/step - loss: 0.6892 - accuracy: 0.5484\n",
      "Epoch 5/30\n",
      "65/65 [==============================] - 11s 162ms/step - loss: 0.6861 - accuracy: 0.5717\n",
      "Epoch 6/30\n",
      "65/65 [==============================] - 11s 162ms/step - loss: 0.6814 - accuracy: 0.5988\n",
      "Epoch 7/30\n",
      "65/65 [==============================] - 11s 161ms/step - loss: 0.6764 - accuracy: 0.5964\n",
      "Epoch 8/30\n",
      "65/65 [==============================] - 11s 161ms/step - loss: 0.6753 - accuracy: 0.5775\n",
      "Epoch 9/30\n",
      "65/65 [==============================] - 11s 162ms/step - loss: 0.6665 - accuracy: 0.6420\n",
      "Epoch 10/30\n",
      "65/65 [==============================] - 11s 164ms/step - loss: 0.6553 - accuracy: 0.6589\n",
      "Epoch 11/30\n",
      "65/65 [==============================] - 11s 163ms/step - loss: 0.6468 - accuracy: 0.6599\n",
      "Epoch 12/30\n",
      "65/65 [==============================] - 11s 164ms/step - loss: 0.6369 - accuracy: 0.6672\n",
      "Epoch 13/30\n",
      "65/65 [==============================] - 11s 162ms/step - loss: 0.6219 - accuracy: 0.6933\n",
      "Epoch 14/30\n",
      "65/65 [==============================] - 11s 163ms/step - loss: 0.6095 - accuracy: 0.6928\n",
      "Epoch 15/30\n",
      "65/65 [==============================] - 11s 164ms/step - loss: 0.5960 - accuracy: 0.7171\n",
      "Epoch 16/30\n",
      "65/65 [==============================] - 11s 163ms/step - loss: 0.5830 - accuracy: 0.7108\n",
      "Epoch 17/30\n",
      "65/65 [==============================] - 11s 164ms/step - loss: 0.5727 - accuracy: 0.7185\n",
      "Epoch 18/30\n",
      "65/65 [==============================] - 11s 164ms/step - loss: 0.5623 - accuracy: 0.7297\n",
      "Epoch 19/30\n",
      "65/65 [==============================] - 11s 164ms/step - loss: 0.5505 - accuracy: 0.7374\n",
      "Epoch 20/30\n",
      "65/65 [==============================] - 11s 163ms/step - loss: 0.5410 - accuracy: 0.7403\n",
      "Epoch 21/30\n",
      "65/65 [==============================] - 11s 164ms/step - loss: 0.5313 - accuracy: 0.7456\n",
      "Epoch 22/30\n",
      "65/65 [==============================] - 11s 164ms/step - loss: 0.5271 - accuracy: 0.7403\n",
      "Epoch 23/30\n",
      "65/65 [==============================] - 11s 164ms/step - loss: 0.5188 - accuracy: 0.7461\n",
      "Epoch 24/30\n",
      "65/65 [==============================] - 11s 164ms/step - loss: 0.5163 - accuracy: 0.7485\n",
      "Epoch 25/30\n",
      "65/65 [==============================] - 11s 163ms/step - loss: 0.5050 - accuracy: 0.7626\n",
      "Epoch 26/30\n",
      "65/65 [==============================] - 11s 162ms/step - loss: 0.5072 - accuracy: 0.7534\n",
      "Epoch 27/30\n",
      "65/65 [==============================] - 11s 164ms/step - loss: 0.4951 - accuracy: 0.7713\n",
      "Epoch 28/30\n",
      "65/65 [==============================] - 11s 164ms/step - loss: 0.4933 - accuracy: 0.7699\n",
      "Epoch 29/30\n",
      "65/65 [==============================] - 11s 163ms/step - loss: 0.4943 - accuracy: 0.7660\n",
      "Epoch 30/30\n",
      "65/65 [==============================] - 11s 163ms/step - loss: 0.4850 - accuracy: 0.7742\n"
     ]
    }
   ],
   "source": [
    "\n",
    "from keras import models , layers , utils\n",
    "import tensorflow as tf\n",
    "import matplotlib.pyplot as plt\n",
    "\n",
    "\n",
    "train_dir = \"src/train2Emos\"\n",
    "val_dir = \"src/val2emos\"\n",
    "\n",
    "BATCH_SZIZE = 32\n",
    "\n",
    "IMG_SIZE = (160, 160)\n",
    "\n",
    "train_images = tf.keras.utils.image_dataset_from_directory(train_dir,\n",
    "                                                            shuffle=True,\n",
    "                                                            batch_size=BATCH_SZIZE,\n",
    "                                                            image_size=IMG_SIZE\n",
    "                                                            )\n",
    "\n",
    "\n",
    "test_images = tf.keras.utils.image_dataset_from_directory(val_dir,\n",
    "                                                                 shuffle=True,\n",
    "                                                                 batch_size=BATCH_SZIZE,\n",
    "                                                                 image_size=IMG_SIZE\n",
    "                                                                 )\n",
    "\n",
    "\n",
    "\n",
    "# Normalize pixel values to be between 0 and 1\n",
    "#train_images, test_images = train_images / 255.0, test_images / 255.0\n",
    "\n",
    "\n",
    "\n",
    "classes = [\"0\",\"1\"]\n",
    "class_names = [\"happy\",\"neutral\"]\n",
    "\n",
    "# plt.figure(figsize=(10,10))\n",
    "# for i in range(32):\n",
    "#     plt.subplot(5,5,i+1)\n",
    "#     plt.xticks([])\n",
    "#     plt.yticks([])\n",
    "#     plt.grid(False)\n",
    "#     plt.imshow(train_images[0][i])\n",
    "#     # The CIFAR labels happen to be arrays,\n",
    "#     # which is why you need the extra index\n",
    "#     plt.xlabel(class_names[classes[i][0]])\n",
    "# plt.show()\n",
    "\n",
    "\n",
    "model = models.Sequential()\n",
    "model.add(layers.InputLayer(input_shape=(160,160,3)))\n",
    "model.add(layers.Rescaling(scale=1./255.))\n",
    "\n",
    "model.add(layers.Conv2D(64, (3, 3), activation='relu'))\n",
    "model.add(layers.MaxPooling2D((2, 2)))\n",
    "\n",
    "model.add(layers.Conv2D(64, (3, 3), activation='relu'))\n",
    "model.add(layers.MaxPooling2D((2, 2)))\n",
    "\n",
    "model.add(layers.Conv2D(64, (3, 3), activation='relu'))\n",
    "model.add(layers.MaxPooling2D((2, 2)))\n",
    "\n",
    "model.add(layers.Flatten())\n",
    "model.add(layers.Dense(64, activation='relu'))\n",
    "model.add(layers.Dropout(0.2))\n",
    "#model.add(layers.Dense(32, activation='relu'))\n",
    "#model.add(layers.Dropout(0.2))\n",
    "model.add(layers.Dense(1 , activation=\"sigmoid\"))\n",
    "\n",
    "\n",
    "model.compile(optimizer= tf.keras.optimizers.Adam(learning_rate=0.00001),\n",
    "              loss=tf.keras.losses.BinaryCrossentropy(),#from_logits=True),\n",
    "              metrics=['accuracy'])\n",
    "\n",
    "history = model.fit(train_images, epochs=30,)\n",
    "                    #validation_data=test_images)\n",
    "\n",
    "\n"
   ]
  },
  {
   "cell_type": "code",
   "execution_count": 5,
   "outputs": [
    {
     "name": "stdout",
     "output_type": "stream",
     "text": [
      "34/34 [==============================] - 2s 56ms/step - loss: 0.5315 - accuracy: 0.7507\n"
     ]
    },
    {
     "data": {
      "text/plain": "[0.5314949154853821, 0.7507055401802063]"
     },
     "execution_count": 5,
     "metadata": {},
     "output_type": "execute_result"
    },
    {
     "data": {
      "text/plain": "<Figure size 432x288 with 1 Axes>",
      "image/png": "[encoded data removed]"
     },
     "metadata": {
      "needs_background": "light"
     },
     "output_type": "display_data"
    }
   ],
   "source": [
    "\n",
    "plt.plot(history.history['accuracy'], label='accuracy')\n",
    "\n",
    "plt.xlabel('Epoch')\n",
    "plt.ylabel('Accuracy')\n",
    "#plt.ylim([0.5, 1])\n",
    "plt.legend(loc='lower right')\n",
    "\n",
    "model.evaluate(test_images)"
   ],
   "metadata": {
    "collapsed": false,
    "pycharm": {
     "name": "#%%\n"
    }
   }
  },
  {
   "cell_type": "code",
   "execution_count": 4,
   "outputs": [],
   "source": [],
   "metadata": {
    "collapsed": false,
    "pycharm": {
     "name": "#%%\n"
    }
   }
  },
  {
   "cell_type": "code",
   "execution_count": 2,
   "outputs": [
    {
     "ename": "KeyError",
     "evalue": "'val_accuracy'",
     "output_type": "error",
     "traceback": [
      "\u001B[0;31m---------------------------------------------------------------------------\u001B[0m",
      "\u001B[0;31mKeyError\u001B[0m                                  Traceback (most recent call last)",
      "Input \u001B[0;32mIn [2]\u001B[0m, in \u001B[0;36m<cell line: 2>\u001B[0;34m()\u001B[0m\n\u001B[1;32m      1\u001B[0m plt\u001B[38;5;241m.\u001B[39mplot(history\u001B[38;5;241m.\u001B[39mhistory[\u001B[38;5;124m'\u001B[39m\u001B[38;5;124maccuracy\u001B[39m\u001B[38;5;124m'\u001B[39m], label\u001B[38;5;241m=\u001B[39m\u001B[38;5;124m'\u001B[39m\u001B[38;5;124maccuracy\u001B[39m\u001B[38;5;124m'\u001B[39m)\n\u001B[0;32m----> 2\u001B[0m plt\u001B[38;5;241m.\u001B[39mplot(\u001B[43mhistory\u001B[49m\u001B[38;5;241;43m.\u001B[39;49m\u001B[43mhistory\u001B[49m\u001B[43m[\u001B[49m\u001B[38;5;124;43m'\u001B[39;49m\u001B[38;5;124;43mval_accuracy\u001B[39;49m\u001B[38;5;124;43m'\u001B[39;49m\u001B[43m]\u001B[49m, label \u001B[38;5;241m=\u001B[39m \u001B[38;5;124m'\u001B[39m\u001B[38;5;124mval_accuracy\u001B[39m\u001B[38;5;124m'\u001B[39m)\n\u001B[1;32m      3\u001B[0m plt\u001B[38;5;241m.\u001B[39mxlabel(\u001B[38;5;124m'\u001B[39m\u001B[38;5;124mEpoch\u001B[39m\u001B[38;5;124m'\u001B[39m)\n\u001B[1;32m      4\u001B[0m plt\u001B[38;5;241m.\u001B[39mylabel(\u001B[38;5;124m'\u001B[39m\u001B[38;5;124mAccuracy\u001B[39m\u001B[38;5;124m'\u001B[39m)\n",
      "\u001B[0;31mKeyError\u001B[0m: 'val_accuracy'"
     ]
    },
    {
     "data": {
      "text/plain": "<Figure size 432x288 with 1 Axes>",
      "image/png": "[encoded data removed]"
     },
     "metadata": {
      "needs_background": "light"
     },
     "output_type": "display_data"
    }
   ],
   "source": [
    "\n",
    "plt.plot(history.history['accuracy'], label='accuracy')\n",
    "plt.plot(history.history['val_accuracy'], label = 'val_accuracy')\n",
    "plt.xlabel('Epoch')\n",
    "plt.ylabel('Accuracy')\n",
    "#plt.ylim([0.5, 1])\n",
    "plt.legend(loc='lower right')\n",
    "\n",
    "test_loss, test_acc = model.evaluate(test_images, verbose=2)"
   ],
   "metadata": {
    "collapsed": false,
    "pycharm": {
     "name": "#%%\n"
    }
   }
  },
  {
   "cell_type": "code",
   "execution_count": 3,
   "outputs": [
    {
     "name": "stdout",
     "output_type": "stream",
     "text": [
      "23/23 - 1s - loss: 0.5957 - accuracy: 0.7021 - 988ms/epoch - 43ms/step\n"
     ]
    },
    {
     "data": {
      "text/plain": "<Figure size 432x288 with 1 Axes>",
      "image/png": "[encoded data removed]"
     },
     "metadata": {
      "needs_background": "light"
     },
     "output_type": "display_data"
    }
   ],
   "source": [
    "\n",
    "plt.plot(history.history['accuracy'], label='accuracy')\n",
    "plt.plot(history.history['val_accuracy'], label = 'val_accuracy')\n",
    "plt.xlabel('Epoch')\n",
    "plt.ylabel('Accuracy')\n",
    "#plt.ylim([0.5, 1])\n",
    "plt.legend(loc='lower right')\n",
    "\n",
    "test_loss, test_acc = model.evaluate(test_images, verbose=2)"
   ],
   "metadata": {
    "collapsed": false,
    "pycharm": {
     "name": "#%%\n"
    }
   }
  },
  {
   "cell_type": "code",
   "execution_count": 3,
   "outputs": [
    {
     "name": "stdout",
     "output_type": "stream",
     "text": [
      "Found 9910 files belonging to 2 classes.\n",
      "310/310 [==============================] - 16s 49ms/step - loss: 0.6019 - accuracy: 0.7347\n"
     ]
    },
    {
     "data": {
      "text/plain": "[0.6019493341445923, 0.7347124218940735]"
     },
     "execution_count": 3,
     "metadata": {},
     "output_type": "execute_result"
    }
   ],
   "source": [
    "test_images2 = tf.keras.utils.image_dataset_from_directory(\"src/test2emos\",\n",
    "                                                          shuffle=True,\n",
    "                                                          batch_size=BATCH_SZIZE,\n",
    "                                                          image_size=IMG_SIZE\n",
    "                                                          )\n",
    "model.evaluate(test_images2)"
   ],
   "metadata": {
    "collapsed": false,
    "pycharm": {
     "name": "#%%\n"
    }
   }
  },
  {
   "cell_type": "code",
   "execution_count": 4,
   "outputs": [
    {
     "name": "stdout",
     "output_type": "stream",
     "text": [
      "Found 550 files belonging to 2 classes.\n",
      "18/18 [==============================] - 1s 60ms/step - loss: 0.7797 - accuracy: 0.6618\n"
     ]
    },
    {
     "data": {
      "text/plain": "[0.7797353863716125, 0.6618182063102722]"
     },
     "execution_count": 4,
     "metadata": {},
     "output_type": "execute_result"
    }
   ],
   "source": [
    "\n",
    "test_images2 = tf.keras.utils.image_dataset_from_directory(\"/Users/anasarodake/anas_fotos/test\",\n",
    "                                                           shuffle=True,\n",
    "                                                           batch_size=BATCH_SZIZE,\n",
    "                                                           image_size=IMG_SIZE\n",
    "                                                           )\n",
    "model.evaluate(test_images2)"
   ],
   "metadata": {
    "collapsed": false,
    "pycharm": {
     "name": "#%%\n"
    }
   }
  },
  {
   "cell_type": "code",
   "execution_count": null,
   "outputs": [],
   "source": [],
   "metadata": {
    "collapsed": false,
    "pycharm": {
     "name": "#%%\n"
    }
   }
  }
 ],
 "metadata": {
  "kernelspec": {
   "display_name": "Python 3",
   "language": "python",
   "name": "python3"
  },
  "language_info": {
   "codemirror_mode": {
    "name": "ipython",
    "version": 2
   },
   "file_extension": ".py",
   "mimetype": "text/x-python",
   "name": "python",
   "nbconvert_exporter": "python",
   "pygments_lexer": "ipython2",
   "version": "2.7.6"
  }
 },
 "nbformat": 4,
 "nbformat_minor": 0
}