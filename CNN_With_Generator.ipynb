{
 "cells": [
  {
   "cell_type": "code",
   "execution_count": 16,
   "metadata": {
    "collapsed": true
   },
   "outputs": [],
   "source": [
    "# Convolutional Neural Network (CNN)\n",
    "## this notbook demonstrates using a CNN Model to classify 7 facial Emotions and correctly predict them using images or frames\n",
    "## This notbook uses keras and tensorflow to load the data from Directory und feed them to the Sequential model\n",
    "from keras import models, layers\n",
    "import tensorflow as tf\n",
    "import matplotlib.pyplot as plt\n",
    "import numpy as np"
   ]
  },
  {
   "cell_type": "code",
   "execution_count": 6,
   "outputs": [
    {
     "name": "stdout",
     "output_type": "stream",
     "text": [
      "Found 28709 images belonging to 7 classes.\n",
      "Found 7178 images belonging to 7 classes.\n",
      "Found 28709 files belonging to 7 classes.\n",
      "Found 7178 files belonging to 7 classes.\n",
      "Epoch 1/6\n"
     ]
    },
    {
     "name": "stderr",
     "output_type": "stream",
     "text": [
      "2022-05-11 15:14:58.544359: I tensorflow/core/grappler/optimizers/custom_graph_optimizer_registry.cc:113] Plugin optimizer for device_type GPU is enabled.\n"
     ]
    },
    {
     "name": "stdout",
     "output_type": "stream",
     "text": [
      "225/225 [==============================] - ETA: 0s - loss: 1.8317 - accuracy: 0.2376"
     ]
    },
    {
     "name": "stderr",
     "output_type": "stream",
     "text": [
      "2022-05-11 15:18:48.494010: I tensorflow/core/grappler/optimizers/custom_graph_optimizer_registry.cc:113] Plugin optimizer for device_type GPU is enabled.\n"
     ]
    },
    {
     "name": "stdout",
     "output_type": "stream",
     "text": [
      "225/225 [==============================] - 244s 1s/step - loss: 1.8317 - accuracy: 0.2376 - val_loss: 1.7465 - val_accuracy: 0.2923\n",
      "Epoch 2/6\n",
      "225/225 [==============================] - 176s 778ms/step - loss: 1.7637 - accuracy: 0.2733 - val_loss: 1.7028 - val_accuracy: 0.3154\n",
      "Epoch 3/6\n",
      "225/225 [==============================] - 177s 785ms/step - loss: 1.7160 - accuracy: 0.3013 - val_loss: 1.6405 - val_accuracy: 0.3565\n",
      "Epoch 4/6\n",
      "225/225 [==============================] - 186s 817ms/step - loss: 1.6480 - accuracy: 0.3457 - val_loss: 1.5332 - val_accuracy: 0.4018\n",
      "Epoch 5/6\n",
      "225/225 [==============================] - 199s 860ms/step - loss: 1.5859 - accuracy: 0.3772 - val_loss: 1.5020 - val_accuracy: 0.4138\n",
      "Epoch 6/6\n",
      "225/225 [==============================] - 190s 845ms/step - loss: 1.5451 - accuracy: 0.3960 - val_loss: 1.4739 - val_accuracy: 0.4377\n"
     ]
    }
   ],
   "source": [
    "from keras_preprocessing.image import ImageDataGenerator\n",
    "\n",
    "train_datagen = ImageDataGenerator(\n",
    "    zoom_range=0.2,\n",
    "    rotation_range= 0.2,\n",
    "    vertical_flip= True\n",
    ")\n",
    "train_generator = train_datagen.flow_from_directory(\n",
    "    'src/train',\n",
    "    target_size=(160, 160),\n",
    "    batch_size=128,\n",
    "    class_mode='categorical'\n",
    ")\n",
    "\n",
    "test_datagen = ImageDataGenerator()\n",
    "validation_generator = test_datagen.flow_from_directory(\n",
    "    'src/test',\n",
    "    target_size=(160, 160),\n",
    "    batch_size=128,\n",
    "    class_mode='categorical'\n",
    " )\n",
    "\n",
    "# Convolutional Neural Network (CNN)\n",
    "## this notbook demonstrates using a CNN Model to classify 7 facial Emotions and correctly predict them using images or frames\n",
    "## This notbook uses keras and tensorflow to load the data from Directory und feed them to the Sequential model\n",
    "from keras import models, layers\n",
    "import tensorflow as tf\n",
    "import matplotlib.pyplot as plt\n",
    "import numpy as np\n",
    "\n",
    "\n",
    "\n",
    "classes = [\"0\", \"1\", \"2\", \"3\", \"4\", \"5\", \"6\"]\n",
    "class_names = [\"angry\", \"disgust\", \"fear\", \"happy\", \"neutral\", \"sad\", \"surprised\"]\n",
    "train_dir = \"src/train\"\n",
    "val_dir = \"src/test\"\n",
    "\n",
    "BATCH_SZIZE = 128\n",
    "IMG_SIZE = (160, 160)\n",
    "# load the training and Validation data from Directory\n",
    "# the used dataset:  FER-2013/Kaggle        https://www.kaggle.com/datasets/msambare/fer2013?select=test\n",
    "train_images = tf.keras.utils.image_dataset_from_directory(train_dir,\n",
    "                                                           #shuffle=True,\n",
    "                                                           batch_size=BATCH_SZIZE,\n",
    "                                                           image_size=IMG_SIZE\n",
    "                                                           )\n",
    "\n",
    "test_images = tf.keras.utils.image_dataset_from_directory(val_dir,\n",
    "                                                          shuffle=True,\n",
    "                                                          batch_size=BATCH_SZIZE,\n",
    "                                                          image_size=IMG_SIZE\n",
    "                                                          )\n",
    "# create the model and its layers\n",
    "# Note that the Images are not getting rescaled\n",
    "# instade of it we are using a Rescalinglayer in the model after the input layer\n",
    "\n",
    "\n",
    "model = models.Sequential()\n",
    "model.add(layers.InputLayer(input_shape=(160, 160, 3)))\n",
    "model.add(layers.Rescaling(scale=1. / 255.))\n",
    "\n",
    "model.add(layers.Conv2D(64, (3, 3), activation='relu'))\n",
    "model.add(layers.MaxPooling2D((2, 2)))\n",
    "model.add(layers.Conv2D(64, (3, 3), activation='relu'))\n",
    "model.add(layers.MaxPooling2D((2, 2)))\n",
    "model.add(layers.Conv2D(64, (3, 3), activation='relu'))\n",
    "model.add(layers.MaxPooling2D((2, 2)))\n",
    "\n",
    "\n",
    "\n",
    "model.add(layers.Flatten())\n",
    "model.add(layers.Dense(64, activation='relu'))\n",
    "model.add(layers.Dropout(0.2))\n",
    "model.add(layers.Dense(32, activation='relu'))\n",
    "model.add(layers.Dropout(0.2))\n",
    "model.add(layers.Dense(7, activation=\"softmax\"))\n",
    "\n",
    "model.compile(tf.keras.optimizers.Adam(learning_rate=0.001),\n",
    "              loss=tf.keras.losses.CategoricalCrossentropy(from_logits=False),\n",
    "              metrics=['accuracy'])\n",
    "\n",
    "history = model.fit(train_generator, epochs=6,\n",
    "                    validation_data=validation_generator)\n",
    "\n",
    "\n",
    "\n"
   ],
   "metadata": {
    "collapsed": false,
    "pycharm": {
     "name": "#%%\n"
    }
   }
  },
  {
   "cell_type": "code",
   "execution_count": 7,
   "outputs": [
    {
     "name": "stdout",
     "output_type": "stream",
     "text": [
      "Epoch 1/6\n",
      "225/225 [==============================] - 175s 766ms/step - loss: 1.5072 - accuracy: 0.4138 - val_loss: 1.4397 - val_accuracy: 0.4436\n",
      "Epoch 2/6\n",
      "225/225 [==============================] - 174s 770ms/step - loss: 1.4729 - accuracy: 0.4323 - val_loss: 1.3953 - val_accuracy: 0.4581\n",
      "Epoch 3/6\n",
      "225/225 [==============================] - 172s 764ms/step - loss: 1.4475 - accuracy: 0.4429 - val_loss: 1.3782 - val_accuracy: 0.4609\n",
      "Epoch 4/6\n",
      "225/225 [==============================] - 168s 744ms/step - loss: 1.4333 - accuracy: 0.4495 - val_loss: 1.3770 - val_accuracy: 0.4694\n",
      "Epoch 5/6\n",
      "225/225 [==============================] - 165s 730ms/step - loss: 1.4092 - accuracy: 0.4601 - val_loss: 1.3341 - val_accuracy: 0.4862\n",
      "Epoch 6/6\n",
      "225/225 [==============================] - 176s 780ms/step - loss: 1.3927 - accuracy: 0.4676 - val_loss: 1.3562 - val_accuracy: 0.4843\n"
     ]
    }
   ],
   "source": [
    "history2 = model.fit(train_generator, epochs=6,\n",
    "                    validation_data=validation_generator)"
   ],
   "metadata": {
    "collapsed": false,
    "pycharm": {
     "name": "#%%\n"
    }
   }
  },
  {
   "cell_type": "code",
   "execution_count": 10,
   "outputs": [
    {
     "name": "stdout",
     "output_type": "stream",
     "text": [
      "Epoch 1/6\n",
      "225/225 [==============================] - 235s 1s/step - loss: 1.3717 - accuracy: 0.4677 - val_loss: 1.3412 - val_accuracy: 0.4836\n",
      "Epoch 2/6\n",
      "225/225 [==============================] - 210s 919ms/step - loss: 1.3648 - accuracy: 0.4750 - val_loss: 1.3266 - val_accuracy: 0.4955\n",
      "Epoch 3/6\n",
      "225/225 [==============================] - 196s 867ms/step - loss: 1.3547 - accuracy: 0.4806 - val_loss: 1.3173 - val_accuracy: 0.4943\n",
      "Epoch 4/6\n",
      "225/225 [==============================] - 193s 857ms/step - loss: 1.3360 - accuracy: 0.4892 - val_loss: 1.3201 - val_accuracy: 0.4921\n",
      "Epoch 5/6\n",
      "225/225 [==============================] - 208s 922ms/step - loss: 1.3325 - accuracy: 0.4909 - val_loss: 1.2791 - val_accuracy: 0.5024\n",
      "Epoch 6/6\n",
      "225/225 [==============================] - 213s 946ms/step - loss: 1.3193 - accuracy: 0.4939 - val_loss: 1.2984 - val_accuracy: 0.4979\n"
     ]
    }
   ],
   "source": [
    "history3 = model.fit(train_generator, epochs=6,\n",
    "                     validation_data=validation_generator)"
   ],
   "metadata": {
    "collapsed": false,
    "pycharm": {
     "name": "#%%\n"
    }
   }
  },
  {
   "cell_type": "code",
   "execution_count": 15,
   "outputs": [],
   "source": [
    "#model.save(\"models&Historys/model/CNN_With_Generator_model.h5\")"
   ],
   "metadata": {
    "collapsed": false,
    "pycharm": {
     "name": "#%%\n"
    }
   }
  },
  {
   "cell_type": "code",
   "execution_count": 12,
   "outputs": [
    {
     "data": {
      "text/plain": "<Figure size 432x288 with 1 Axes>",
      "image/png": "[encoded data removed]"
     },
     "metadata": {
      "needs_background": "light"
     },
     "output_type": "display_data"
    },
    {
     "data": {
      "text/plain": "<matplotlib.legend.Legend at 0x2df67aee0>"
     },
     "execution_count": 12,
     "metadata": {},
     "output_type": "execute_result"
    },
    {
     "data": {
      "text/plain": "<Figure size 432x288 with 1 Axes>",
      "image/png": "[encoded data removed]"
     },
     "metadata": {
      "needs_background": "light"
     },
     "output_type": "display_data"
    }
   ],
   "source": [
    "acc = history.history['accuracy']+history2.history['accuracy']+history3.history['accuracy']\n",
    "val_acc = history.history['val_accuracy']+history2.history['val_accuracy']+history3.history['val_accuracy']\n",
    "\n",
    "plt.plot(acc, label='accuracy')\n",
    "plt.plot(val_acc, label = 'val_accuracy')\n",
    "plt.xlabel('Epoch')\n",
    "plt.ylabel('Accuracy')\n",
    "#plt.ylim([0.5, 1])\n",
    "plt.legend(loc='lower right')\n",
    "plt.show()\n",
    "\n",
    "loss = history.history['loss']+history2.history['loss']+history3.history['loss']\n",
    "val_loss = history.history['val_loss']+history2.history['val_loss']+history3.history['val_loss']\n",
    "\n",
    "plt.plot(loss, label='loss')\n",
    "plt.plot(val_loss, label = 'val_loss')\n",
    "plt.xlabel('Epoch')\n",
    "plt.ylabel('Loss')\n",
    "#plt.ylim([0.5, 1])\n",
    "plt.legend(loc='lower right')\n"
   ],
   "metadata": {
    "collapsed": false,
    "pycharm": {
     "name": "#%%\n"
    }
   }
  },
  {
   "cell_type": "code",
   "execution_count": null,
   "outputs": [],
   "source": [],
   "metadata": {
    "collapsed": false,
    "pycharm": {
     "name": "#%%\n"
    }
   }
  },
  {
   "cell_type": "code",
   "execution_count": 13,
   "outputs": [
    {
     "name": "stdout",
     "output_type": "stream",
     "text": [
      "happy\n"
     ]
    },
    {
     "name": "stderr",
     "output_type": "stream",
     "text": [
      "OpenCV: out device of bound (0-0): 1\n",
      "OpenCV: camera failed to properly initialize!\n"
     ]
    }
   ],
   "source": [
    "# Run the following cells to see the live detection of facial emotions\n",
    "import cv2\n",
    "import numpy as np\n",
    "import tensorflow as tf\n",
    "\n",
    "classes = [\"0\", \"1\", \"2\", \"3\", \"4\", \"5\", \"6\"]\n",
    "class_names = [\"angry\", \"disgust\", \"fear\", \"happy\", \"neutral\", \"sad\", \"surprised\"]\n",
    "\n",
    "\n",
    "\n",
    "\n",
    "def closeAll():\n",
    "    cv2.namedWindow(\"win\")\n",
    "    cv2.startWindowThread()\n",
    "    cv2.destroyAllWindows()\n",
    "\n",
    "\n",
    "#thest the model on one image\n",
    "faceCascade = cv2.CascadeClassifier(cv2.data.haarcascades + 'haarcascade_frontalface_default.xml')\n",
    "frame = cv2.imread(\"test.png\")\n",
    "gray = cv2.cvtColor(frame, cv2.COLOR_BGR2GRAY)\n",
    "\n",
    "faces = faceCascade.detectMultiScale(gray, 1.1, 4)\n",
    "for x, y, w, h in faces:\n",
    "    roi_gray = gray[y:y + h, x: x + w]\n",
    "    roi_color = frame[y:y + h, x: x + w]\n",
    "    cv2.rectangle(frame, (x, y), (x + w, y + h), (255, 11, 55), 2)\n",
    "    facess = faceCascade.detectMultiScale(roi_gray)\n",
    "    if len(facess) == 0:\n",
    "\n",
    "        print(\"Face not detected\")\n",
    "    else:\n",
    "        for (ex, ey, ew, eh) in facess:  #show found faces and the predicted emotions\n",
    "            face_roi = roi_color[ey: ey + eh, ex: ex + ew]\n",
    "            final_image = cv2.resize(face_roi, (160, 160))\n",
    "            final_image = np.expand_dims(final_image, axis=0)  #need 4th Dimention\n",
    "            #final_image = final_image / 255.0  #normalize\n",
    "            predictions = model.predict(final_image)\n",
    "            print(class_names[np.argmax(predictions)])\n",
    "\n",
    "# Run the live cam\n",
    "font = cv2.FONT_HERSHEY_PLAIN\n",
    "#set the rectangle background to white\n",
    "rectangle_bgr = (255, 255, 255)\n",
    "#make a black image\n",
    "img = np.zeros((500, 500))\n",
    "#set some text\n",
    "text = \"Some text in a box!\"\n",
    "# get the width and height of the text box\n",
    "(text_width, text_height) = cv2.getTextSize(text, font, fontScale=1.5, thickness=1)[0]\n",
    "# set the text start position\n",
    "text_offset_x = 10\n",
    "text_offset_y = img.shape[0] - 25\n",
    "#make the coords of the box with a small padding of two pixels\n",
    "box_coords = ((text_offset_x, text_offset_y), (text_offset_x + text_width + 2, text_offset_y - text_height - 2))\n",
    "cv2.rectangle(img, box_coords[0], box_coords[1], rectangle_bgr, cv2.FILLED)\n",
    "cv2.putText(img, text, (text_offset_x, text_offset_y), font, fontScale=1.5, color=(0, 0, 0), thickness=1)\n",
    "cap = cv2.VideoCapture(1)\n",
    "# Check if the webcam is opened correctly\n",
    "if not cap.isOpened():\n",
    "    cap = cv2.VideoCapture(0)\n",
    "if not cap.isOpened():\n",
    "    raise IOError(\"Cannot open webcam\")\n",
    "\n",
    "while True:\n",
    "    ret, frame = cap.read()\n",
    "    #eye_cascade = cv2.CascadeClassifier(cv2.data.haarcascades + 'haarcascade_eye.xml')\n",
    "    faceCascade = cv2.CascadeClassifier(cv2.data.haarcascades + 'haarcascade_frontalface_default.xml')\n",
    "    gray = cv2.cvtColor(frame, cv2.COLOR_BGR2GRAY)\n",
    "    #print(faceCascade.empty())\n",
    "    faces = faceCascade.detectMultiScale(gray, 1.1, 4)\n",
    "    for x, y, w, h in faces:\n",
    "        roi_gray = gray[y:y + h, x:x + w]\n",
    "        roi_color = frame[y:y + h, x:x + w]\n",
    "        cv2.rectangle(frame, (x, y), (x + w, y + h), (255, 0, 0), 2)\n",
    "        facess = faceCascade.detectMultiScale(roi_gray)\n",
    "        if len(facess) == 0:\n",
    "            continue\n",
    "        else:\n",
    "            for (ex, ey, ew, eh) in facess:\n",
    "                face_roi = roi_color[ey: ey + eh, ex:ex + ew]  ## cropping the face\n",
    "                final_image = cv2.resize(face_roi, (160, 160))\n",
    "                final_image = np.expand_dims(final_image,\n",
    "                                             axis=0)  ## need fourth dimension # we dont rescale because the model have a rescaling layer\n",
    "                font = cv2.FONT_HERSHEY_SIMPLEX\n",
    "                Predictions = model.predict(final_image)\n",
    "                #font = cv2.FONT_HERSHEY_PLAIN\n",
    "\n",
    "                #show the name of predicted emotion\n",
    "                status = class_names[np.argmax(Predictions)]\n",
    "                x1, y1, w1, h1 = 0, 0, 175, 75\n",
    "                #Draw black background rectangle\n",
    "                cv2.rectangle(frame, (x1, x1), (x1 + w1, y1 + h1), (0, 0, 0), -1)\n",
    "                #Addd text\n",
    "                cv2.putText(frame, status, (x1 + int(w1 / 10), y1 + int(h1 / 2)), cv2.FONT_HERSHEY_SIMPLEX, 0.7,\n",
    "                            (0, 0, 255), 2)\n",
    "                cv2.putText(frame, status, (100, 150), font, 3, (0, 0, 255), 2, cv2.LINE_4)\n",
    "                cv2.rectangle(frame, (x, y), (x + w, y + h), (0, 0, 255))\n",
    "\n",
    "    cv2.imshow('Face Emotion Recognition', frame)\n",
    "    if cv2.waitKey(2) & 0xFF == ord('q'):\n",
    "        break\n",
    "cap.release()\n",
    "cv2.destroyAllWindows()\n",
    "\n"
   ],
   "metadata": {
    "collapsed": false,
    "pycharm": {
     "name": "#%%\n"
    }
   }
  },
  {
   "cell_type": "code",
   "execution_count": 14,
   "outputs": [],
   "source": [
    "closeAll()  # if the python3.80 window did not close, use this cell separately"
   ],
   "metadata": {
    "collapsed": false,
    "pycharm": {
     "name": "#%%\n"
    }
   }
  },
  {
   "cell_type": "code",
   "execution_count": null,
   "outputs": [],
   "source": [],
   "metadata": {
    "collapsed": false,
    "pycharm": {
     "name": "#%%\n"
    }
   }
  }
 ],
 "metadata": {
  "kernelspec": {
   "display_name": "Python 3",
   "language": "python",
   "name": "python3"
  },
  "language_info": {
   "codemirror_mode": {
    "name": "ipython",
    "version": 2
   },
   "file_extension": ".py",
   "mimetype": "text/x-python",
   "name": "python",
   "nbconvert_exporter": "python",
   "pygments_lexer": "ipython2",
   "version": "2.7.6"
  }
 },
 "nbformat": 4,
 "nbformat_minor": 0
}