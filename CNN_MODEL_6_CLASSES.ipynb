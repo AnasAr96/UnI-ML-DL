{
 "cells": [
  {
   "cell_type": "code",
   "execution_count": 3,
   "metadata": {
    "collapsed": true
   },
   "outputs": [
    {
     "name": "stdout",
     "output_type": "stream",
     "text": [
      "Found 28273 images belonging to 6 classes.\n",
      "Found 7067 images belonging to 6 classes.\n",
      "Epoch 1/6\n"
     ]
    },
    {
     "name": "stderr",
     "output_type": "stream",
     "text": [
      "2022-05-12 07:45:16.541137: I tensorflow/core/grappler/optimizers/custom_graph_optimizer_registry.cc:113] Plugin optimizer for device_type GPU is enabled.\n"
     ]
    },
    {
     "name": "stdout",
     "output_type": "stream",
     "text": [
      "221/221 [==============================] - ETA: 0s - loss: 1.7537 - accuracy: 0.2506"
     ]
    },
    {
     "name": "stderr",
     "output_type": "stream",
     "text": [
      "2022-05-12 07:48:34.768921: I tensorflow/core/grappler/optimizers/custom_graph_optimizer_registry.cc:113] Plugin optimizer for device_type GPU is enabled.\n"
     ]
    },
    {
     "name": "stdout",
     "output_type": "stream",
     "text": [
      "221/221 [==============================] - 210s 933ms/step - loss: 1.7537 - accuracy: 0.2506 - val_loss: 1.6941 - val_accuracy: 0.2898\n",
      "Epoch 2/6\n",
      "221/221 [==============================] - 186s 833ms/step - loss: 1.6934 - accuracy: 0.2900 - val_loss: 1.6252 - val_accuracy: 0.3284\n",
      "Epoch 3/6\n",
      "221/221 [==============================] - 176s 791ms/step - loss: 1.6449 - accuracy: 0.3219 - val_loss: 1.5923 - val_accuracy: 0.3455\n",
      "Epoch 4/6\n",
      "221/221 [==============================] - 179s 810ms/step - loss: 1.5817 - accuracy: 0.3568 - val_loss: 1.4786 - val_accuracy: 0.4174\n",
      "Epoch 5/6\n",
      "221/221 [==============================] - 196s 882ms/step - loss: 1.5155 - accuracy: 0.3933 - val_loss: 1.4099 - val_accuracy: 0.4398\n",
      "Epoch 6/6\n",
      "221/221 [==============================] - 160s 721ms/step - loss: 1.4746 - accuracy: 0.4108 - val_loss: 1.3797 - val_accuracy: 0.4466\n"
     ]
    }
   ],
   "source": [
    "\n",
    "# Convolutional Neural Network (CNN)\n",
    "## this notbook demonstrates using a CNN Model to classify 7 facial Emotions and correctly predict them using images or frames\n",
    "## This notbook uses keras and tensorflow to load the data from Directory und feed them to the Sequential model\n",
    "from keras import models, layers\n",
    "import tensorflow as tf\n",
    "import matplotlib.pyplot as plt\n",
    "import numpy as np\n",
    "from keras_preprocessing.image import ImageDataGenerator\n",
    "\n",
    "train_datagen = ImageDataGenerator(\n",
    "    zoom_range=0.2,\n",
    "    rotation_range= 0.2,\n",
    "    vertical_flip= True\n",
    ")\n",
    "train_generator = train_datagen.flow_from_directory(\n",
    "    '/Users/anasarodake/train',\n",
    "    target_size=(160, 160),\n",
    "    batch_size=128,\n",
    "    class_mode='categorical'\n",
    ")\n",
    "\n",
    "test_datagen = ImageDataGenerator()\n",
    "validation_generator = test_datagen.flow_from_directory(\n",
    "    '/Users/anasarodake/test',\n",
    "    target_size=(160, 160),\n",
    "    batch_size=128,\n",
    "    class_mode='categorical'\n",
    ")\n",
    "\n",
    "\n",
    "\n",
    "\n",
    "\n",
    "classes = [\"0\", \"1\", \"2\", \"3\", \"4\", \"5\"]\n",
    "class_names = [\"angry\", \"fear\", \"happy\", \"neutral\", \"sad\", \"surprised\"]\n",
    "train_dir = \"/Users/anasarodake/train\"\n",
    "val_dir = \"/Users/anasarodake/test\"\n",
    "\n",
    "BATCH_SZIZE = 128\n",
    "IMG_SIZE = (160, 160)\n",
    "# load the training and Validation data from Directory\n",
    "# the used dataset:  FER-2013/Kaggle        https://www.kaggle.com/datasets/msambare/fer2013?select=test\n",
    "\n",
    "\n",
    "\n",
    "# create the model and its layers\n",
    "# Note that the Images are not getting rescaled\n",
    "# instade of it we are using a Rescalinglayer in the model after the input layer\n",
    "\n",
    "\n",
    "model = models.Sequential()\n",
    "model.add(layers.InputLayer(input_shape=(160, 160, 3)))\n",
    "model.add(layers.Rescaling(scale=1. / 255.))\n",
    "\n",
    "model.add(layers.Conv2D(64, (3, 3), activation='relu'))\n",
    "model.add(layers.MaxPooling2D((2, 2)))\n",
    "model.add(layers.Conv2D(64, (3, 3), activation='relu'))\n",
    "model.add(layers.MaxPooling2D((2, 2)))\n",
    "model.add(layers.Conv2D(64, (3, 3), activation='relu'))\n",
    "model.add(layers.MaxPooling2D((2, 2)))\n",
    "\n",
    "\n",
    "\n",
    "model.add(layers.Flatten())\n",
    "model.add(layers.Dense(64, activation='relu'))\n",
    "model.add(layers.Dropout(0.2))\n",
    "model.add(layers.Dense(32, activation='relu'))\n",
    "model.add(layers.Dropout(0.2))\n",
    "model.add(layers.Dense(6, activation=\"softmax\"))\n",
    "\n",
    "model.compile(tf.keras.optimizers.Adam(learning_rate=0.001),\n",
    "              loss=tf.keras.losses.CategoricalCrossentropy(from_logits=False),\n",
    "              metrics=['accuracy'])\n",
    "\n",
    "history = model.fit(train_generator, epochs=6,\n",
    "                    validation_data=validation_generator)\n",
    "\n",
    "\n"
   ]
  },
  {
   "cell_type": "code",
   "execution_count": 4,
   "outputs": [
    {
     "name": "stdout",
     "output_type": "stream",
     "text": [
      "Epoch 1/6\n",
      "221/221 [==============================] - 332s 1s/step - loss: 1.4405 - accuracy: 0.4306 - val_loss: 1.3532 - val_accuracy: 0.4732\n",
      "Epoch 2/6\n",
      "221/221 [==============================] - 200s 903ms/step - loss: 1.4107 - accuracy: 0.4410 - val_loss: 1.3537 - val_accuracy: 0.4636\n",
      "Epoch 3/6\n",
      "221/221 [==============================] - 210s 945ms/step - loss: 1.3898 - accuracy: 0.4507 - val_loss: 1.3254 - val_accuracy: 0.4726\n",
      "Epoch 4/6\n",
      "221/221 [==============================] - 192s 863ms/step - loss: 1.3730 - accuracy: 0.4590 - val_loss: 1.3293 - val_accuracy: 0.4630\n",
      "Epoch 5/6\n",
      "221/221 [==============================] - 218s 981ms/step - loss: 1.3438 - accuracy: 0.4726 - val_loss: 1.2816 - val_accuracy: 0.4978\n",
      "Epoch 6/6\n",
      "221/221 [==============================] - 208s 932ms/step - loss: 1.3303 - accuracy: 0.4817 - val_loss: 1.2694 - val_accuracy: 0.5036\n"
     ]
    }
   ],
   "source": [
    "history2 = model.fit(train_generator, epochs=6,\n",
    "                    validation_data=validation_generator)"
   ],
   "metadata": {
    "collapsed": false,
    "pycharm": {
     "name": "#%%\n"
    }
   }
  },
  {
   "cell_type": "code",
   "execution_count": 5,
   "outputs": [
    {
     "name": "stdout",
     "output_type": "stream",
     "text": [
      "Epoch 1/6\n",
      "221/221 [==============================] - 192s 861ms/step - loss: 1.3176 - accuracy: 0.4843 - val_loss: 1.2655 - val_accuracy: 0.5012\n",
      "Epoch 2/6\n",
      "221/221 [==============================] - 213s 958ms/step - loss: 1.3050 - accuracy: 0.4908 - val_loss: 1.2513 - val_accuracy: 0.5064\n",
      "Epoch 3/6\n",
      "221/221 [==============================] - 203s 910ms/step - loss: 1.2847 - accuracy: 0.5038 - val_loss: 1.2466 - val_accuracy: 0.5127\n",
      "Epoch 4/6\n",
      "221/221 [==============================] - 176s 790ms/step - loss: 1.2708 - accuracy: 0.5038 - val_loss: 1.2555 - val_accuracy: 0.5121\n",
      "Epoch 5/6\n",
      "221/221 [==============================] - 176s 795ms/step - loss: 1.2660 - accuracy: 0.5070 - val_loss: 1.2525 - val_accuracy: 0.5088\n",
      "Epoch 6/6\n",
      "221/221 [==============================] - 185s 836ms/step - loss: 1.2573 - accuracy: 0.5123 - val_loss: 1.2388 - val_accuracy: 0.5134\n"
     ]
    }
   ],
   "source": [
    "history3 = model.fit(train_generator, epochs=6,\n",
    "                    validation_data=validation_generator)"
   ],
   "metadata": {
    "collapsed": false,
    "pycharm": {
     "name": "#%%\n"
    }
   }
  },
  {
   "cell_type": "code",
   "execution_count": 6,
   "outputs": [
    {
     "data": {
      "text/plain": "<Figure size 432x288 with 1 Axes>",
      "image/png": "[encoded data removed]"
     },
     "metadata": {
      "needs_background": "light"
     },
     "output_type": "display_data"
    },
    {
     "data": {
      "text/plain": "<matplotlib.legend.Legend at 0x176928790>"
     },
     "execution_count": 6,
     "metadata": {},
     "output_type": "execute_result"
    },
    {
     "data": {
      "text/plain": "<Figure size 432x288 with 1 Axes>",
      "image/png": "[encoded data removed]"
     },
     "metadata": {
      "needs_background": "light"
     },
     "output_type": "display_data"
    }
   ],
   "source": [
    "acc = history.history['accuracy']+history2.history['accuracy']+history3.history['accuracy']\n",
    "val_acc = history.history['val_accuracy']+history2.history['val_accuracy']+history3.history['val_accuracy']\n",
    "\n",
    "plt.plot(acc, label='accuracy')\n",
    "plt.plot(val_acc, label = 'val_accuracy')\n",
    "plt.xlabel('Epoch')\n",
    "plt.ylabel('Accuracy')\n",
    "#plt.ylim([0.5, 1])\n",
    "plt.legend(loc='lower right')\n",
    "plt.show()\n",
    "\n",
    "loss = history.history['loss']+history2.history['loss']+history3.history['loss']\n",
    "val_loss = history.history['val_loss']+history2.history['val_loss']+history3.history['val_loss']\n",
    "\n",
    "plt.plot(loss, label='loss')\n",
    "plt.plot(val_loss, label = 'val_loss')\n",
    "plt.xlabel('Epoch')\n",
    "plt.ylabel('Loss')\n",
    "#plt.ylim([0.5, 1])\n",
    "plt.legend(loc='lower right')"
   ],
   "metadata": {
    "collapsed": false,
    "pycharm": {
     "name": "#%%\n"
    }
   }
  },
  {
   "cell_type": "code",
   "execution_count": 12,
   "outputs": [
    {
     "name": "stdout",
     "output_type": "stream",
     "text": [
      "happy\n"
     ]
    },
    {
     "name": "stderr",
     "output_type": "stream",
     "text": [
      "OpenCV: out device of bound (0-0): 1\n",
      "OpenCV: camera failed to properly initialize!\n"
     ]
    }
   ],
   "source": [
    "# Run the following cells to see the live detection of facial emotions\n",
    "import cv2\n",
    "import numpy as np\n",
    "import tensorflow as tf\n",
    "\n",
    "\n",
    "\n",
    "\n",
    "\n",
    "\n",
    "def closeAll():\n",
    "    cv2.namedWindow(\"win\")\n",
    "    cv2.startWindowThread()\n",
    "    cv2.destroyAllWindows()\n",
    "\n",
    "\n",
    "#thest the model on one image\n",
    "faceCascade = cv2.CascadeClassifier(cv2.data.haarcascades + 'haarcascade_frontalface_default.xml')\n",
    "frame = cv2.imread(\"test.png\")\n",
    "gray = cv2.cvtColor(frame, cv2.COLOR_BGR2GRAY)\n",
    "\n",
    "faces = faceCascade.detectMultiScale(gray, 1.1, 4)\n",
    "for x, y, w, h in faces:\n",
    "    roi_gray = gray[y:y + h, x: x + w]\n",
    "    roi_color = frame[y:y + h, x: x + w]\n",
    "    cv2.rectangle(frame, (x, y), (x + w, y + h), (255, 11, 55), 2)\n",
    "    facess = faceCascade.detectMultiScale(roi_gray)\n",
    "    if len(facess) == 0:\n",
    "\n",
    "        print(\"Face not detected\")\n",
    "    else:\n",
    "        for (ex, ey, ew, eh) in facess:  #show found faces and the predicted emotions\n",
    "            face_roi = roi_color[ey: ey + eh, ex: ex + ew]\n",
    "            final_image = cv2.resize(face_roi, (160, 160))\n",
    "            final_image = np.expand_dims(final_image, axis=0)  #need 4th Dimention\n",
    "            #final_image = final_image / 255.0  #normalize\n",
    "            predictions = model.predict(final_image)\n",
    "            print(class_names[np.argmax(predictions)])\n",
    "\n",
    "# Run the live cam\n",
    "font = cv2.FONT_HERSHEY_PLAIN\n",
    "#set the rectangle background to white\n",
    "rectangle_bgr = (255, 255, 255)\n",
    "#make a black image\n",
    "img = np.zeros((500, 500))\n",
    "#set some text\n",
    "text = \"Some text in a box!\"\n",
    "# get the width and height of the text box\n",
    "(text_width, text_height) = cv2.getTextSize(text, font, fontScale=1.5, thickness=1)[0]\n",
    "# set the text start position\n",
    "text_offset_x = 10\n",
    "text_offset_y = img.shape[0] - 25\n",
    "#make the coords of the box with a small padding of two pixels\n",
    "box_coords = ((text_offset_x, text_offset_y), (text_offset_x + text_width + 2, text_offset_y - text_height - 2))\n",
    "cv2.rectangle(img, box_coords[0], box_coords[1], rectangle_bgr, cv2.FILLED)\n",
    "cv2.putText(img, text, (text_offset_x, text_offset_y), font, fontScale=1.5, color=(0, 0, 0), thickness=1)\n",
    "cap = cv2.VideoCapture(1)\n",
    "# Check if the webcam is opened correctly\n",
    "if not cap.isOpened():\n",
    "    cap = cv2.VideoCapture(0)\n",
    "if not cap.isOpened():\n",
    "    raise IOError(\"Cannot open webcam\")\n",
    "\n",
    "while True:\n",
    "    ret, frame = cap.read()\n",
    "    #eye_cascade = cv2.CascadeClassifier(cv2.data.haarcascades + 'haarcascade_eye.xml')\n",
    "    faceCascade = cv2.CascadeClassifier(cv2.data.haarcascades + 'haarcascade_frontalface_default.xml')\n",
    "    gray = cv2.cvtColor(frame, cv2.COLOR_BGR2GRAY)\n",
    "    #print(faceCascade.empty())\n",
    "    faces = faceCascade.detectMultiScale(gray, 1.1, 4)\n",
    "    for x, y, w, h in faces:\n",
    "        roi_gray = gray[y:y + h, x:x + w]\n",
    "        roi_color = frame[y:y + h, x:x + w]\n",
    "        cv2.rectangle(frame, (x, y), (x + w, y + h), (255, 0, 0), 2)\n",
    "        facess = faceCascade.detectMultiScale(roi_gray)\n",
    "        if len(facess) == 0:\n",
    "            continue\n",
    "        else:\n",
    "            for (ex, ey, ew, eh) in facess:\n",
    "                face_roi = roi_color[ey: ey + eh, ex:ex + ew]  ## cropping the face\n",
    "                final_image = cv2.resize(face_roi, (160, 160))\n",
    "                final_image = np.expand_dims(final_image,\n",
    "                                             axis=0)  ## need fourth dimension # we dont rescale because the model have a rescaling layer\n",
    "                font = cv2.FONT_HERSHEY_SIMPLEX\n",
    "                Predictions = model.predict(final_image)\n",
    "                #font = cv2.FONT_HERSHEY_PLAIN\n",
    "\n",
    "                #show the name of predicted emotion\n",
    "                status = class_names[np.argmax(Predictions)]\n",
    "                x1, y1, w1, h1 = 0, 0, 175, 75\n",
    "                #Draw black background rectangle\n",
    "                cv2.rectangle(frame, (x1, x1), (x1 + w1, y1 + h1), (0, 0, 0), -1)\n",
    "                #Addd text\n",
    "                cv2.putText(frame, status, (x1 + int(w1 / 10), y1 + int(h1 / 2)), cv2.FONT_HERSHEY_SIMPLEX, 0.7,\n",
    "                            (0, 0, 255), 2)\n",
    "                cv2.putText(frame, status, (100, 150), font, 3, (0, 0, 255), 2, cv2.LINE_4)\n",
    "                cv2.rectangle(frame, (x, y), (x + w, y + h), (0, 0, 255))\n",
    "\n",
    "    cv2.imshow('Face Emotion Recognition', frame)\n",
    "    if cv2.waitKey(2) & 0xFF == ord('q'):\n",
    "        break\n",
    "cap.release()\n",
    "\n"
   ],
   "metadata": {
    "collapsed": false,
    "pycharm": {
     "name": "#%%\n"
    }
   }
  },
  {
   "cell_type": "code",
   "execution_count": 13,
   "outputs": [],
   "source": [
    "closeAll()"
   ],
   "metadata": {
    "collapsed": false,
    "pycharm": {
     "name": "#%%\n"
    }
   }
  },
  {
   "cell_type": "code",
   "execution_count": 14,
   "outputs": [],
   "source": [
    "#model.save(\"models&Historys/model/CNN_With_Generator_No_Disgust_model.h5\")"
   ],
   "metadata": {
    "collapsed": false,
    "pycharm": {
     "name": "#%%\n"
    }
   }
  },
  {
   "cell_type": "code",
   "execution_count": null,
   "outputs": [],
   "source": [],
   "metadata": {
    "collapsed": false,
    "pycharm": {
     "name": "#%%\n"
    }
   }
  }
 ],
 "metadata": {
  "kernelspec": {
   "display_name": "Python 3",
   "language": "python",
   "name": "python3"
  },
  "language_info": {
   "codemirror_mode": {
    "name": "ipython",
    "version": 2
   },
   "file_extension": ".py",
   "mimetype": "text/x-python",
   "name": "python",
   "nbconvert_exporter": "python",
   "pygments_lexer": "ipython2",
   "version": "2.7.6"
  }
 },
 "nbformat": 4,
 "nbformat_minor": 0
}