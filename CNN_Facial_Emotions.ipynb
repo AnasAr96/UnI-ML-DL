{
 "cells": [
  {
   "cell_type": "markdown",
   "source": [
    "# Convolutional Neural Network (CNN)"
   ],
   "metadata": {
    "collapsed": false,
    "pycharm": {
     "name": "#%% md\n"
    }
   }
  },
  {
   "cell_type": "markdown",
   "source": [
    "## this notbook demonstrates using a CNN Model to classify 7 facial Emotions and correctly predict them using images or frames\n",
    "## This notbook uses keras and tensorflow to load the data from Directory und feed them to the Sequential model"
   ],
   "metadata": {
    "collapsed": false,
    "pycharm": {
     "name": "#%% md\n"
    }
   }
  },
  {
   "cell_type": "markdown",
   "source": [
    "Imports"
   ],
   "metadata": {
    "collapsed": false,
    "pycharm": {
     "name": "#%% md\n"
    }
   }
  },
  {
   "cell_type": "code",
   "execution_count": 2,
   "outputs": [],
   "source": [
    "from keras import models , layers , utils\n",
    "import tensorflow as tf\n",
    "import matplotlib.pyplot as plt\n",
    "import numpy as np\n"
   ],
   "metadata": {
    "collapsed": false,
    "pycharm": {
     "name": "#%%\n"
    }
   }
  },
  {
   "cell_type": "markdown",
   "source": [
    "specify the Important parameters and the Classes\n"
   ],
   "metadata": {
    "collapsed": false,
    "pycharm": {
     "name": "#%% md\n"
    }
   }
  },
  {
   "cell_type": "code",
   "execution_count": null,
   "outputs": [],
   "source": [
    "classes = [\"0\",\"1\",\"2\",\"3\",\"4\",\"5\",\"6\"]\n",
    "class_names = [\"angry\",\"disgust\",\"fear\",\"happy\",\"neutral\",\"sad\",\"surprised\"]\n",
    "train_dir = \"src/train\"\n",
    "val_dir = \"src/train_smal\"\n",
    "\n",
    "\n",
    "BATCH_SZIZE = 128\n",
    "IMG_SIZE = (160, 160)"
   ],
   "metadata": {
    "collapsed": false,
    "pycharm": {
     "name": "#%%\n"
    }
   }
  },
  {
   "cell_type": "code",
   "execution_count": null,
   "outputs": [],
   "source": [
    "# load the training and Validation data from Directory\n",
    "# the used dataset:  FER-2013/Kaggle        https://www.kaggle.com/datasets/msambare/fer2013?select=test"
   ],
   "metadata": {
    "collapsed": false,
    "pycharm": {
     "name": "#%%\n"
    }
   }
  },
  {
   "cell_type": "code",
   "execution_count": null,
   "outputs": [],
   "source": [
    "train_images = tf.keras.utils.image_dataset_from_directory(train_dir,\n",
    "                                                           #shuffle=True,\n",
    "                                                           batch_size=BATCH_SZIZE,\n",
    "                                                           image_size=IMG_SIZE\n",
    "                                                           )\n",
    "\n",
    "\n",
    "test_images = tf.keras.utils.image_dataset_from_directory(val_dir,\n",
    "                                                          shuffle=True,\n",
    "                                                          batch_size=BATCH_SZIZE,\n",
    "                                                          image_size=IMG_SIZE\n",
    "                                                          )"
   ],
   "metadata": {
    "collapsed": false,
    "pycharm": {
     "name": "#%%\n"
    }
   }
  },
  {
   "cell_type": "markdown",
   "source": [
    "# create the model and its layers\n",
    "# Note that the Images are not getting rescaled\n",
    "# instade of it we are using a Rescalinglayer in the model after the input layer"
   ],
   "metadata": {
    "collapsed": false,
    "pycharm": {
     "name": "#%% md\n"
    }
   }
  },
  {
   "cell_type": "code",
   "execution_count": 1,
   "outputs": [
    {
     "name": "stdout",
     "output_type": "stream",
     "text": [
      "Found 28709 files belonging to 7 classes.\n",
      "Metal device set to: Apple M1\n"
     ]
    },
    {
     "name": "stderr",
     "output_type": "stream",
     "text": [
      "2022-05-09 20:41:37.169527: I tensorflow/core/common_runtime/pluggable_device/pluggable_device_factory.cc:305] Could not identify NUMA node of platform GPU ID 0, defaulting to 0. Your kernel may not have been built with NUMA support.\n",
      "2022-05-09 20:41:37.169626: I tensorflow/core/common_runtime/pluggable_device/pluggable_device_factory.cc:271] Created TensorFlow device (/job:localhost/replica:0/task:0/device:GPU:0 with 0 MB memory) -> physical PluggableDevice (device: 0, name: METAL, pci bus id: <undefined>)\n"
     ]
    },
    {
     "name": "stdout",
     "output_type": "stream",
     "text": [
      "Found 6459 files belonging to 7 classes.\n",
      "Epoch 1/15\n"
     ]
    },
    {
     "name": "stderr",
     "output_type": "stream",
     "text": [
      "/Users/anasarodake/miniforge3/envs/deep/lib/python3.8/site-packages/tensorflow/python/util/dispatch.py:1082: UserWarning: \"`sparse_categorical_crossentropy` received `from_logits=True`, but the `output` argument was produced by a sigmoid or softmax activation and thus does not represent logits. Was this intended?\"\n",
      "  return dispatch_target(*args, **kwargs)\n",
      "2022-05-09 20:41:37.811902: W tensorflow/core/platform/profile_utils/cpu_utils.cc:128] Failed to get CPU frequency: 0 Hz\n",
      "2022-05-09 20:41:37.812316: I tensorflow/core/grappler/optimizers/custom_graph_optimizer_registry.cc:113] Plugin optimizer for device_type GPU is enabled.\n"
     ]
    },
    {
     "name": "stdout",
     "output_type": "stream",
     "text": [
      "225/225 [==============================] - ETA: 0s - loss: 1.7770 - accuracy: 0.2713"
     ]
    },
    {
     "name": "stderr",
     "output_type": "stream",
     "text": [
      "2022-05-09 20:44:41.724115: I tensorflow/core/grappler/optimizers/custom_graph_optimizer_registry.cc:113] Plugin optimizer for device_type GPU is enabled.\n"
     ]
    },
    {
     "name": "stdout",
     "output_type": "stream",
     "text": [
      "225/225 [==============================] - 195s 864ms/step - loss: 1.7770 - accuracy: 0.2713 - val_loss: 1.7870 - val_accuracy: 0.3052\n",
      "Epoch 2/15\n",
      "225/225 [==============================] - 190s 845ms/step - loss: 1.6154 - accuracy: 0.3614 - val_loss: 1.6616 - val_accuracy: 0.3753\n",
      "Epoch 3/15\n",
      "225/225 [==============================] - 193s 856ms/step - loss: 1.4994 - accuracy: 0.4155 - val_loss: 1.6067 - val_accuracy: 0.3937\n",
      "Epoch 4/15\n",
      "225/225 [==============================] - 167s 742ms/step - loss: 1.4250 - accuracy: 0.4439 - val_loss: 1.4584 - val_accuracy: 0.4487\n",
      "Epoch 5/15\n",
      "225/225 [==============================] - 168s 746ms/step - loss: 1.3607 - accuracy: 0.4703 - val_loss: 1.4285 - val_accuracy: 0.4569\n",
      "Epoch 6/15\n",
      "225/225 [==============================] - 166s 736ms/step - loss: 1.3019 - accuracy: 0.4980 - val_loss: 1.3158 - val_accuracy: 0.5101\n",
      "Epoch 7/15\n",
      "225/225 [==============================] - 185s 821ms/step - loss: 1.2330 - accuracy: 0.5247 - val_loss: 1.2448 - val_accuracy: 0.5233\n",
      "Epoch 8/15\n",
      "225/225 [==============================] - 193s 858ms/step - loss: 1.1669 - accuracy: 0.5524 - val_loss: 1.1691 - val_accuracy: 0.5530\n",
      "Epoch 9/15\n",
      "225/225 [==============================] - 171s 758ms/step - loss: 1.1057 - accuracy: 0.5786 - val_loss: 1.0814 - val_accuracy: 0.5993\n",
      "Epoch 10/15\n",
      "225/225 [==============================] - 169s 749ms/step - loss: 1.0430 - accuracy: 0.6018 - val_loss: 1.0203 - val_accuracy: 0.6194\n",
      "Epoch 11/15\n",
      "225/225 [==============================] - 172s 766ms/step - loss: 0.9837 - accuracy: 0.6256 - val_loss: 0.9394 - val_accuracy: 0.6532\n",
      "Epoch 12/15\n",
      "225/225 [==============================] - 176s 784ms/step - loss: 0.9286 - accuracy: 0.6438 - val_loss: 0.8598 - val_accuracy: 0.6839\n",
      "Epoch 13/15\n",
      "225/225 [==============================] - 187s 830ms/step - loss: 0.8814 - accuracy: 0.6620 - val_loss: 0.8459 - val_accuracy: 0.6880\n",
      "Epoch 14/15\n",
      "225/225 [==============================] - 180s 802ms/step - loss: 0.8252 - accuracy: 0.6857 - val_loss: 0.8220 - val_accuracy: 0.6983\n",
      "Epoch 15/15\n",
      "225/225 [==============================] - 233s 1s/step - loss: 0.7928 - accuracy: 0.6956 - val_loss: 0.7703 - val_accuracy: 0.7151\n"
     ]
    }
   ],
   "source": [
    "\n",
    "\n",
    "\n",
    "model = models.Sequential()\n",
    "model.add(layers.InputLayer(input_shape=(160,160,3)))\n",
    "model.add(layers.Rescaling(scale=1./255.))\n",
    "\n",
    "model.add(layers.Conv2D(64, (3, 3), activation='relu'))\n",
    "model.add(layers.MaxPooling2D((2, 2)))\n",
    "model.add(layers.Conv2D(64, (3, 3), activation='relu'))\n",
    "model.add(layers.MaxPooling2D((2, 2)))\n",
    "model.add(layers.Conv2D(64, (3, 3), activation='relu'))\n",
    "model.add(layers.MaxPooling2D((2, 2)))\n",
    "\n",
    "model.add(layers.Flatten())\n",
    "model.add(layers.Dense(64, activation='relu'))\n",
    "model.add(layers.Dropout(0.2))\n",
    "model.add(layers.Dense(32, activation='relu'))\n",
    "model.add(layers.Dropout(0.2))\n",
    "model.add(layers.Dense(7 , activation=\"softmax\"))\n",
    "\n",
    "\n",
    "model.compile(tf.keras.optimizers.Adam(learning_rate=0.001),\n",
    "              loss=tf.keras.losses.SparseCategoricalCrossentropy(from_logits = True),\n",
    "              metrics=['accuracy'])\n",
    "\n",
    "history = model.fit(train_images, epochs=15,\n",
    "                     validation_data=test_images)\n",
    "\n",
    "\n"
   ],
   "metadata": {
    "collapsed": false,
    "pycharm": {
     "name": "#%%\n"
    }
   }
  },
  {
   "cell_type": "markdown",
   "source": [
    "# we keep watching the Accuracy and train the model for further 10 Epochs"
   ],
   "metadata": {
    "collapsed": false,
    "pycharm": {
     "name": "#%% md\n"
    }
   }
  },
  {
   "cell_type": "code",
   "execution_count": 2,
   "outputs": [
    {
     "name": "stdout",
     "output_type": "stream",
     "text": [
      "Epoch 1/10\n",
      "225/225 [==============================] - 206s 906ms/step - loss: 0.7584 - accuracy: 0.7104 - val_loss: 0.7513 - val_accuracy: 0.7229\n",
      "Epoch 2/10\n",
      "225/225 [==============================] - 202s 894ms/step - loss: 0.7151 - accuracy: 0.7250 - val_loss: 0.7248 - val_accuracy: 0.7339\n",
      "Epoch 3/10\n",
      "225/225 [==============================] - 185s 820ms/step - loss: 0.6842 - accuracy: 0.7364 - val_loss: 0.7142 - val_accuracy: 0.7351\n",
      "Epoch 4/10\n",
      "225/225 [==============================] - 182s 807ms/step - loss: 0.6646 - accuracy: 0.7447 - val_loss: 0.6274 - val_accuracy: 0.7712\n",
      "Epoch 5/10\n",
      "225/225 [==============================] - 195s 868ms/step - loss: 0.6353 - accuracy: 0.7567 - val_loss: 0.5987 - val_accuracy: 0.7817\n",
      "Epoch 6/10\n",
      "225/225 [==============================] - 192s 855ms/step - loss: 0.6092 - accuracy: 0.7652 - val_loss: 0.5882 - val_accuracy: 0.7837\n",
      "Epoch 7/10\n",
      "225/225 [==============================] - 197s 877ms/step - loss: 0.5937 - accuracy: 0.7729 - val_loss: 0.5789 - val_accuracy: 0.7848\n",
      "Epoch 8/10\n",
      "225/225 [==============================] - 201s 891ms/step - loss: 0.5792 - accuracy: 0.7768 - val_loss: 0.5342 - val_accuracy: 0.7987\n",
      "Epoch 9/10\n",
      "225/225 [==============================] - 185s 821ms/step - loss: 0.5601 - accuracy: 0.7844 - val_loss: 0.5445 - val_accuracy: 0.7997\n",
      "Epoch 10/10\n",
      "225/225 [==============================] - 191s 851ms/step - loss: 0.5545 - accuracy: 0.7866 - val_loss: 0.5468 - val_accuracy: 0.8028\n"
     ]
    }
   ],
   "source": [
    "\n",
    "\n",
    "history2 = model.fit(train_images, epochs=10,\n",
    "                    validation_data=test_images)"
   ],
   "metadata": {
    "collapsed": false,
    "pycharm": {
     "name": "#%%\n"
    }
   }
  },
  {
   "cell_type": "code",
   "execution_count": null,
   "outputs": [],
   "source": [],
   "metadata": {
    "collapsed": false,
    "pycharm": {
     "name": "#%%\n"
    }
   }
  },
  {
   "cell_type": "code",
   "execution_count": null,
   "outputs": [],
   "source": [],
   "metadata": {
    "collapsed": false,
    "pycharm": {
     "name": "#%%\n"
    }
   }
  },
  {
   "cell_type": "code",
   "execution_count": 3,
   "outputs": [
    {
     "name": "stdout",
     "output_type": "stream",
     "text": [
      "Epoch 1/10\n",
      "225/225 [==============================] - 193s 859ms/step - loss: 0.5235 - accuracy: 0.7983 - val_loss: 0.5059 - val_accuracy: 0.8124\n",
      "Epoch 2/10\n",
      "225/225 [==============================] - 207s 921ms/step - loss: 0.5164 - accuracy: 0.8035 - val_loss: 0.5109 - val_accuracy: 0.8128\n",
      "Epoch 3/10\n",
      "225/225 [==============================] - 165s 733ms/step - loss: 0.4924 - accuracy: 0.8101 - val_loss: 0.4857 - val_accuracy: 0.8252\n",
      "Epoch 4/10\n",
      "225/225 [==============================] - 154s 684ms/step - loss: 0.4909 - accuracy: 0.8088 - val_loss: 0.5045 - val_accuracy: 0.8185\n",
      "Epoch 5/10\n",
      "225/225 [==============================] - 175s 778ms/step - loss: 0.4783 - accuracy: 0.8148 - val_loss: 0.4712 - val_accuracy: 0.8373\n",
      "Epoch 6/10\n",
      "225/225 [==============================] - 184s 818ms/step - loss: 0.4711 - accuracy: 0.8202 - val_loss: 0.5011 - val_accuracy: 0.8257\n",
      "Epoch 7/10\n",
      "225/225 [==============================] - 155s 687ms/step - loss: 0.4696 - accuracy: 0.8201 - val_loss: 0.4986 - val_accuracy: 0.8216\n",
      "Epoch 8/10\n",
      "225/225 [==============================] - 169s 751ms/step - loss: 0.4606 - accuracy: 0.8222 - val_loss: 0.4796 - val_accuracy: 0.8317\n",
      "Epoch 9/10\n",
      "225/225 [==============================] - 167s 741ms/step - loss: 0.4541 - accuracy: 0.8262 - val_loss: 0.4731 - val_accuracy: 0.8334\n",
      "Epoch 10/10\n",
      "225/225 [==============================] - 180s 800ms/step - loss: 0.4439 - accuracy: 0.8302 - val_loss: 0.4716 - val_accuracy: 0.8251\n"
     ]
    }
   ],
   "source": [
    "history3 = model.fit(train_images, epochs=10,\n",
    "                    validation_data=test_images)"
   ],
   "metadata": {
    "collapsed": false,
    "pycharm": {
     "name": "#%%\n"
    }
   }
  },
  {
   "cell_type": "code",
   "execution_count": 4,
   "outputs": [
    {
     "name": "stdout",
     "output_type": "stream",
     "text": [
      "Epoch 1/10\n",
      "225/225 [==============================] - 162s 719ms/step - loss: 0.4327 - accuracy: 0.8353 - val_loss: 0.4430 - val_accuracy: 0.8398\n",
      "Epoch 2/10\n",
      "225/225 [==============================] - 145s 645ms/step - loss: 0.4210 - accuracy: 0.8395 - val_loss: 0.4328 - val_accuracy: 0.8463\n",
      "Epoch 3/10\n",
      "225/225 [==============================] - 148s 659ms/step - loss: 0.4191 - accuracy: 0.8393 - val_loss: 0.4663 - val_accuracy: 0.8391\n",
      "Epoch 4/10\n",
      "225/225 [==============================] - 144s 639ms/step - loss: 0.4168 - accuracy: 0.8406 - val_loss: 0.4678 - val_accuracy: 0.8463\n",
      "Epoch 5/10\n",
      "225/225 [==============================] - 150s 666ms/step - loss: 0.4120 - accuracy: 0.8432 - val_loss: 0.4629 - val_accuracy: 0.8489\n",
      "Epoch 6/10\n",
      "225/225 [==============================] - 146s 649ms/step - loss: 0.4096 - accuracy: 0.8462 - val_loss: 0.4395 - val_accuracy: 0.8552\n",
      "Epoch 7/10\n",
      "225/225 [==============================] - 146s 648ms/step - loss: 0.4063 - accuracy: 0.8452 - val_loss: 0.4361 - val_accuracy: 0.8475\n",
      "Epoch 8/10\n",
      "225/225 [==============================] - 141s 626ms/step - loss: 0.3942 - accuracy: 0.8495 - val_loss: 0.5155 - val_accuracy: 0.8300\n",
      "Epoch 9/10\n",
      "225/225 [==============================] - 149s 663ms/step - loss: 0.3926 - accuracy: 0.8498 - val_loss: 0.4099 - val_accuracy: 0.8586\n",
      "Epoch 10/10\n",
      "225/225 [==============================] - 177s 788ms/step - loss: 0.3869 - accuracy: 0.8520 - val_loss: 0.4548 - val_accuracy: 0.8489\n"
     ]
    }
   ],
   "source": [
    "history4 = model.fit(train_images, epochs=10,\n",
    "                    validation_data=test_images)"
   ],
   "metadata": {
    "collapsed": false,
    "pycharm": {
     "name": "#%%\n"
    }
   }
  },
  {
   "cell_type": "code",
   "execution_count": 5,
   "outputs": [
    {
     "name": "stdout",
     "output_type": "stream",
     "text": [
      "Epoch 1/10\n",
      "225/225 [==============================] - 170s 753ms/step - loss: 0.3761 - accuracy: 0.8570 - val_loss: 0.4590 - val_accuracy: 0.8535\n",
      "Epoch 2/10\n",
      "225/225 [==============================] - 148s 655ms/step - loss: 0.3750 - accuracy: 0.8548 - val_loss: 0.3871 - val_accuracy: 0.8735\n",
      "Epoch 3/10\n",
      "225/225 [==============================] - 152s 673ms/step - loss: 0.3765 - accuracy: 0.8576 - val_loss: 0.4416 - val_accuracy: 0.8520\n",
      "Epoch 4/10\n",
      "225/225 [==============================] - 149s 663ms/step - loss: 0.3660 - accuracy: 0.8598 - val_loss: 0.3640 - val_accuracy: 0.8799\n",
      "Epoch 5/10\n",
      "225/225 [==============================] - 173s 769ms/step - loss: 0.3709 - accuracy: 0.8610 - val_loss: 0.3487 - val_accuracy: 0.8840\n",
      "Epoch 6/10\n",
      "225/225 [==============================] - 162s 722ms/step - loss: 0.3849 - accuracy: 0.8551 - val_loss: 0.3546 - val_accuracy: 0.8809\n",
      "Epoch 7/10\n",
      "225/225 [==============================] - 156s 691ms/step - loss: 0.3571 - accuracy: 0.8639 - val_loss: 0.3961 - val_accuracy: 0.8717\n",
      "Epoch 8/10\n",
      "225/225 [==============================] - 154s 684ms/step - loss: 0.3552 - accuracy: 0.8638 - val_loss: 0.3779 - val_accuracy: 0.8724\n",
      "Epoch 9/10\n",
      "225/225 [==============================] - 150s 666ms/step - loss: 0.3587 - accuracy: 0.8636 - val_loss: 0.3659 - val_accuracy: 0.8808\n",
      "Epoch 10/10\n",
      "225/225 [==============================] - 152s 677ms/step - loss: 0.3477 - accuracy: 0.8681 - val_loss: 0.4097 - val_accuracy: 0.8633\n"
     ]
    }
   ],
   "source": [
    "history5 = model.fit(train_images, epochs=10,\n",
    "                    validation_data=test_images)"
   ],
   "metadata": {
    "collapsed": false,
    "pycharm": {
     "name": "#%%\n"
    }
   }
  },
  {
   "cell_type": "code",
   "execution_count": null,
   "outputs": [],
   "source": [],
   "metadata": {
    "collapsed": false,
    "pycharm": {
     "name": "#%%\n"
    }
   }
  },
  {
   "cell_type": "code",
   "execution_count": null,
   "outputs": [],
   "source": [],
   "metadata": {
    "collapsed": false,
    "pycharm": {
     "name": "#%%\n"
    }
   }
  },
  {
   "cell_type": "code",
   "execution_count": null,
   "outputs": [],
   "source": [
    "\n",
    "# plt.plot(history.history['accuracy'], label='accuracy')\n",
    "# plt.plot(history.history['val_accuracy'], label = 'val_accuracy')\n",
    "# plt.xlabel('Epoch')\n",
    "# plt.ylabel('Accuracy')\n",
    "# #plt.ylim([0.5, 1])\n",
    "# plt.legend(loc='lower right')\n",
    "# plt.show()\n",
    "# plt.plot(history.history['loss'], label='loss')\n",
    "# plt.plot(history.history['val_loss'], label = 'val_loss')\n",
    "# plt.xlabel('Epoch')\n",
    "# plt.ylabel('Loss')\n",
    "# #plt.ylim([0.5, 1])\n",
    "# plt.legend(loc='lower right')\n"
   ],
   "metadata": {
    "collapsed": false,
    "pycharm": {
     "name": "#%%\n"
    }
   }
  },
  {
   "cell_type": "code",
   "execution_count": 7,
   "outputs": [
    {
     "data": {
      "text/plain": "<Figure size 576x576 with 2 Axes>",
      "image/png": "[encoded data removed]"
     },
     "metadata": {
      "needs_background": "light"
     },
     "output_type": "display_data"
    }
   ],
   "source": [
    "acc = history.history['accuracy'] +history2.history['accuracy'] +history3.history['accuracy'] +history4.history['accuracy'] +history5.history['accuracy']\n",
    "val_acc = history.history['val_accuracy'] +history2.history['val_accuracy'] +history3.history['val_accuracy'] +history4.history['val_accuracy'] +history5.history['val_accuracy']\n",
    "\n",
    "loss = history.history['loss'] +  history2.history['loss'] +  history3.history['loss'] +  history4.history['loss'] +  history5.history['loss']\n",
    "val_loss = history.history['val_loss'] + history2.history['val_loss'] + history3.history['val_loss'] + history4.history['val_loss'] + history5.history['val_loss']\n",
    "\n",
    "epochs_range = range(55)\n",
    "\n",
    "plt.figure(figsize=(8, 8))\n",
    "plt.subplot(1, 2, 1)\n",
    "plt.plot(epochs_range, acc, label='Training Accuracy')\n",
    "plt.plot(epochs_range, val_acc, label='Validation Accuracy')\n",
    "plt.legend(loc='lower right')\n",
    "plt.title('Training and Validation Accuracy')\n",
    "\n",
    "plt.subplot(1, 2, 2)\n",
    "plt.plot(epochs_range, loss, label='Training Loss')\n",
    "plt.plot(epochs_range, val_loss, label='Validation Loss')\n",
    "plt.legend(loc='upper right')\n",
    "plt.title('Training and Validation Loss')\n",
    "plt.show()"
   ],
   "metadata": {
    "collapsed": false,
    "pycharm": {
     "name": "#%%\n"
    }
   }
  },
  {
   "cell_type": "code",
   "execution_count": 8,
   "outputs": [
    {
     "name": "stdout",
     "output_type": "stream",
     "text": [
      "Found 6459 files belonging to 7 classes.\n",
      "51/51 [==============================] - 11s 185ms/step - loss: 0.4097 - accuracy: 0.8633\n"
     ]
    },
    {
     "data": {
      "text/plain": "[0.40974026918411255, 0.8632915616035461]"
     },
     "execution_count": 8,
     "metadata": {},
     "output_type": "execute_result"
    }
   ],
   "source": [
    "test_images2 = tf.keras.utils.image_dataset_from_directory(\"src/train_smal\",\n",
    "                                                          shuffle=True,\n",
    "                                                          batch_size=BATCH_SZIZE,\n",
    "                                                          image_size=IMG_SIZE\n",
    "                                                          )\n",
    "model.evaluate(test_images2)"
   ],
   "metadata": {
    "collapsed": false,
    "pycharm": {
     "name": "#%%\n"
    }
   }
  },
  {
   "cell_type": "code",
   "execution_count": 9,
   "outputs": [
    {
     "name": "stdout",
     "output_type": "stream",
     "text": [
      "Found 550 files belonging to 2 classes.\n",
      "5/5 [==============================] - 1s 194ms/step - loss: 22.4730 - accuracy: 0.0364\n"
     ]
    },
    {
     "data": {
      "text/plain": "[22.472990036010742, 0.036363635212183]"
     },
     "execution_count": 9,
     "metadata": {},
     "output_type": "execute_result"
    }
   ],
   "source": [
    "\n",
    "test_images2 = tf.keras.utils.image_dataset_from_directory(\"/Users/anasarodake/anas_fotos/test\",\n",
    "                                                           shuffle=True,\n",
    "                                                           batch_size=BATCH_SZIZE,\n",
    "                                                           image_size=IMG_SIZE\n",
    "                                                           )\n",
    "model.evaluate(test_images2)"
   ],
   "metadata": {
    "collapsed": false,
    "pycharm": {
     "name": "#%%\n"
    }
   }
  },
  {
   "cell_type": "code",
   "execution_count": null,
   "outputs": [],
   "source": [],
   "metadata": {
    "collapsed": false,
    "pycharm": {
     "name": "#%%\n"
    }
   }
  },
  {
   "cell_type": "code",
   "execution_count": null,
   "outputs": [],
   "source": [],
   "metadata": {
    "collapsed": false,
    "pycharm": {
     "name": "#%%\n"
    }
   }
  },
  {
   "cell_type": "markdown",
   "source": [
    "# check the Acc of the Model"
   ],
   "metadata": {
    "collapsed": false,
    "pycharm": {
     "name": "#%% md\n"
    }
   }
  },
  {
   "cell_type": "code",
   "execution_count": null,
   "outputs": [],
   "source": [
    "test_images2 = tf.keras.utils.image_dataset_from_directory(\"src/train_smal\",\n",
    "                                                           shuffle=True,\n",
    "                                                           batch_size=BATCH_SZIZE,\n",
    "                                                           image_size=IMG_SIZE\n",
    "                                                           )\n",
    "model.evaluate(test_images2)"
   ],
   "metadata": {
    "collapsed": false,
    "pycharm": {
     "name": "#%%\n"
    }
   }
  },
  {
   "cell_type": "code",
   "execution_count": null,
   "outputs": [],
   "source": [
    "test_images2 = 0\n",
    "test_images2 = tf.keras.utils.image_dataset_from_directory(\"/Users/anasarodake/anas_fotos/train\",\n",
    "                                                           shuffle=True,\n",
    "                                                           batch_size=BATCH_SZIZE,\n",
    "                                                           image_size=IMG_SIZE\n",
    "                                                           )\n",
    "model.evaluate(test_images2)"
   ],
   "metadata": {
    "collapsed": false,
    "pycharm": {
     "name": "#%%\n"
    }
   }
  },
  {
   "cell_type": "code",
   "execution_count": null,
   "outputs": [],
   "source": [],
   "metadata": {
    "collapsed": false,
    "pycharm": {
     "name": "#%%\n"
    }
   }
  },
  {
   "cell_type": "code",
   "execution_count": null,
   "outputs": [],
   "source": [],
   "metadata": {
    "collapsed": false,
    "pycharm": {
     "name": "#%%\n"
    }
   }
  },
  {
   "cell_type": "code",
   "execution_count": null,
   "outputs": [],
   "source": [
    "#Test the model on one image"
   ],
   "metadata": {
    "collapsed": false,
    "pycharm": {
     "name": "#%%\n"
    }
   }
  },
  {
   "cell_type": "code",
   "execution_count": 10,
   "outputs": [],
   "source": [
    "import cv2\n",
    "img = cv2.imread(\"test.png\")\n",
    "img = cv2.resize(img ,(160,160))\n",
    "img = img.reshape(1,160,160,3)\n",
    "#img = img/255."
   ],
   "metadata": {
    "collapsed": false,
    "pycharm": {
     "name": "#%%\n"
    }
   }
  },
  {
   "cell_type": "code",
   "execution_count": 11,
   "outputs": [
    {
     "name": "stderr",
     "output_type": "stream",
     "text": [
      "2022-05-10 08:41:35.031871: I tensorflow/core/grappler/optimizers/custom_graph_optimizer_registry.cc:113] Plugin optimizer for device_type GPU is enabled.\n"
     ]
    },
    {
     "data": {
      "text/plain": "array([[4.3712112e-01, 1.8324746e-09, 2.8830133e-03, 4.0218323e-02,\n        2.1146066e-03, 5.1761168e-01, 5.1366089e-05]], dtype=float32)"
     },
     "execution_count": 11,
     "metadata": {},
     "output_type": "execute_result"
    }
   ],
   "source": [
    "model.predict(img , batch_size = 1)"
   ],
   "metadata": {
    "collapsed": false,
    "pycharm": {
     "name": "#%%\n"
    }
   }
  },
  {
   "cell_type": "markdown",
   "source": [
    "# save the Model"
   ],
   "metadata": {
    "collapsed": false,
    "pycharm": {
     "name": "#%% md\n"
    }
   }
  },
  {
   "cell_type": "code",
   "execution_count": 4,
   "outputs": [
    {
     "name": "stderr",
     "output_type": "stream",
     "text": [
      "2022-05-10 22:45:54.972630: I tensorflow/core/common_runtime/pluggable_device/pluggable_device_factory.cc:305] Could not identify NUMA node of platform GPU ID 0, defaulting to 0. Your kernel may not have been built with NUMA support.\n",
      "2022-05-10 22:45:54.973274: I tensorflow/core/common_runtime/pluggable_device/pluggable_device_factory.cc:271] Created TensorFlow device (/job:localhost/replica:0/task:0/device:GPU:0 with 0 MB memory) -> physical PluggableDevice (device: 0, name: METAL, pci bus id: <undefined>)\n"
     ]
    },
    {
     "name": "stdout",
     "output_type": "stream",
     "text": [
      "Metal device set to: Apple M1\n"
     ]
    }
   ],
   "source": [
    "\n",
    "#model.save(\"models&Historys/CNN_55EPOCHS_ACC8633\" + \"_model.h5\")\n",
    "model = tf.keras.models.load_model('models&Historys/model/CNN_55EPOCHS_ACC8633_model.h5')"
   ],
   "metadata": {
    "collapsed": false,
    "pycharm": {
     "name": "#%%\n"
    }
   }
  },
  {
   "cell_type": "markdown",
   "source": [
    "# now all Historys will be saven in a Directory\n",
    "# later they will be loaded to plot the total ACC, Loss of the model"
   ],
   "metadata": {
    "collapsed": false,
    "pycharm": {
     "name": "#%% md\n"
    }
   }
  },
  {
   "cell_type": "code",
   "execution_count": 28,
   "outputs": [
    {
     "ename": "AttributeError",
     "evalue": "'dict' object has no attribute 'history'",
     "output_type": "error",
     "traceback": [
      "\u001B[0;31m---------------------------------------------------------------------------\u001B[0m",
      "\u001B[0;31mAttributeError\u001B[0m                            Traceback (most recent call last)",
      "Input \u001B[0;32mIn [28]\u001B[0m, in \u001B[0;36m<cell line: 5>\u001B[0;34m()\u001B[0m\n\u001B[1;32m      1\u001B[0m \u001B[38;5;28;01mimport\u001B[39;00m \u001B[38;5;21;01mjson\u001B[39;00m\n\u001B[1;32m      2\u001B[0m \u001B[38;5;66;03m# Get the dictionary containing each metric and the loss for each epoch\u001B[39;00m\n\u001B[1;32m      3\u001B[0m \n\u001B[1;32m      4\u001B[0m \u001B[38;5;66;03m# Save it under the form of a json file\u001B[39;00m\n\u001B[0;32m----> 5\u001B[0m json\u001B[38;5;241m.\u001B[39mdump(\u001B[43mhistory\u001B[49m\u001B[38;5;241;43m.\u001B[39;49m\u001B[43mhistory\u001B[49m, \u001B[38;5;28mopen\u001B[39m(\u001B[38;5;124m\"\u001B[39m\u001B[38;5;124m/Users/anasarodake/DataSpell/UnI-ML-DL/models&Historys/history1\u001B[39m\u001B[38;5;124m\"\u001B[39m, \u001B[38;5;124m'\u001B[39m\u001B[38;5;124mw\u001B[39m\u001B[38;5;124m'\u001B[39m))\n\u001B[1;32m      6\u001B[0m json\u001B[38;5;241m.\u001B[39mdump(history2\u001B[38;5;241m.\u001B[39mhistory, \u001B[38;5;28mopen\u001B[39m(\u001B[38;5;124m\"\u001B[39m\u001B[38;5;124m/Users/anasarodake/DataSpell/UnI-ML-DL/models&Historys/history2\u001B[39m\u001B[38;5;124m\"\u001B[39m, \u001B[38;5;124m'\u001B[39m\u001B[38;5;124mw\u001B[39m\u001B[38;5;124m'\u001B[39m))\n\u001B[1;32m      7\u001B[0m json\u001B[38;5;241m.\u001B[39mdump(history3\u001B[38;5;241m.\u001B[39mhistory, \u001B[38;5;28mopen\u001B[39m(\u001B[38;5;124m\"\u001B[39m\u001B[38;5;124m/Users/anasarodake/DataSpell/UnI-ML-DL/models&Historys/history3\u001B[39m\u001B[38;5;124m\"\u001B[39m, \u001B[38;5;124m'\u001B[39m\u001B[38;5;124mw\u001B[39m\u001B[38;5;124m'\u001B[39m))\n",
      "\u001B[0;31mAttributeError\u001B[0m: 'dict' object has no attribute 'history'"
     ]
    }
   ],
   "source": [
    "import json\n",
    "# Get the dictionary containing each metric and the loss for each epoch\n",
    "\n",
    "# Save it under the form of a json file\n",
    "json.dump(history.history, open(\"/Users/anasarodake/DataSpell/UnI-ML-DL/models&Historys/history1\", 'w'))\n",
    "json.dump(history2.history, open(\"/Users/anasarodake/DataSpell/UnI-ML-DL/models&Historys/history2\", 'w'))\n",
    "json.dump(history3.history, open(\"/Users/anasarodake/DataSpell/UnI-ML-DL/models&Historys/history3\", 'w'))\n",
    "json.dump(history4.history, open(\"/Users/anasarodake/DataSpell/UnI-ML-DL/models&Historys/history4\", 'w'))\n",
    "json.dump(history5.history, open(\"/Users/anasarodake/DataSpell/UnI-ML-DL/models&Historys/history5\", 'w'))"
   ],
   "metadata": {
    "collapsed": false,
    "pycharm": {
     "name": "#%%\n"
    }
   }
  },
  {
   "cell_type": "code",
   "execution_count": 29,
   "outputs": [],
   "source": [
    "history1 = json.load(open(\"/Users/anasarodake/DataSpell/UnI-ML-DL/models&Historys/history1\", 'r'))\n",
    "history2 = json.load(open(\"/Users/anasarodake/DataSpell/UnI-ML-DL/models&Historys/history2\", 'r'))\n",
    "history3 = json.load(open(\"/Users/anasarodake/DataSpell/UnI-ML-DL/models&Historys/history3\", 'r'))\n",
    "history4 = json.load(open(\"/Users/anasarodake/DataSpell/UnI-ML-DL/models&Historys/history4\", 'r'))\n",
    "history5 = json.load(open(\"/Users/anasarodake/DataSpell/UnI-ML-DL/models&Historys/history5\", 'r'))"
   ],
   "metadata": {
    "collapsed": false,
    "pycharm": {
     "name": "#%%\n"
    }
   }
  },
  {
   "cell_type": "code",
   "execution_count": 40,
   "outputs": [
    {
     "data": {
      "text/plain": "<Figure size 576x576 with 2 Axes>",
      "image/png": "[encoded data removed]"
     },
     "metadata": {
      "needs_background": "light"
     },
     "output_type": "display_data"
    }
   ],
   "source": [
    "total_history = [history1 ,history2 , history3 , history4 , history5] # aus jedem History element werden acc und loss aufsummiert\n",
    "acc=[]\n",
    "val_acc = []\n",
    "loss = []\n",
    "val_loss = []\n",
    "for history in total_history :\n",
    "    acc = acc +  history['accuracy']\n",
    "    val_acc = val_acc + history['val_accuracy']\n",
    "    loss = loss + history['loss']\n",
    "    val_loss = val_loss + history['val_loss']\n",
    "\n",
    "#acc = his['accuracy'] #+history2.history['accuracy'] +history3.history['accuracy'] +history4.history['accuracy'] +history5.history['accuracy']\n",
    "#val_acc = his['val_accuracy']# +history2.history['val_accuracy'] +history3.history['val_accuracy'] +history4.history['val_accuracy'] +history5.history['val_accuracy']\n",
    "\n",
    "#loss = his['loss'] #+  history2.history['loss'] +  history3.history['loss'] +  history4.history['loss'] +  history5.history['loss']\n",
    "#val_loss = his['val_loss']# + history2.history['val_loss'] + history3.history['val_loss'] + history4.history['val_loss'] + history5.history['val_loss']\n",
    "\n",
    "epochs_range = range(55)\n",
    "\n",
    "plt.figure(figsize=(8, 8))\n",
    "plt.subplot(1, 2, 1)\n",
    "plt.plot(epochs_range, acc, label='Training Accuracy')\n",
    "plt.plot(epochs_range, val_acc, label='Validation Accuracy')\n",
    "plt.legend(loc='lower right')\n",
    "plt.title('Training and Validation Accuracy')\n",
    "\n",
    "plt.subplot(1, 2, 2)\n",
    "plt.plot(epochs_range, loss, label='Training Loss')\n",
    "plt.plot(epochs_range, val_loss, label='Validation Loss')\n",
    "plt.legend(loc='upper right')\n",
    "plt.title('Training and Validation Loss')\n",
    "plt.show()"
   ],
   "metadata": {
    "collapsed": false,
    "pycharm": {
     "name": "#%%\n"
    }
   }
  },
  {
   "cell_type": "code",
   "execution_count": 6,
   "outputs": [],
   "source": [],
   "metadata": {
    "collapsed": false,
    "pycharm": {
     "name": "#%%\n"
    }
   }
  },
  {
   "cell_type": "code",
   "execution_count": 6,
   "outputs": [],
   "source": [],
   "metadata": {
    "collapsed": false,
    "pycharm": {
     "name": "#%%\n"
    }
   }
  },
  {
   "cell_type": "code",
   "execution_count": null,
   "outputs": [],
   "source": [],
   "metadata": {
    "collapsed": false,
    "pycharm": {
     "name": "#%%\n"
    }
   }
  }
 ],
 "metadata": {
  "kernelspec": {
   "display_name": "Python 3",
   "language": "python",
   "name": "python3"
  },
  "language_info": {
   "codemirror_mode": {
    "name": "ipython",
    "version": 2
   },
   "file_extension": ".py",
   "mimetype": "text/x-python",
   "name": "python",
   "nbconvert_exporter": "python",
   "pygments_lexer": "ipython2",
   "version": "2.7.6"
  }
 },
 "nbformat": 4,
 "nbformat_minor": 0
}